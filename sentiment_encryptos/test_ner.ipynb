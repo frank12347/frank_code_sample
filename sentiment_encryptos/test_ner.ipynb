{
 "cells": [
  {
   "cell_type": "code",
   "execution_count": 89,
   "id": "21315499-3926-43c0-bffd-a51aa8b6496a",
   "metadata": {},
   "outputs": [],
   "source": [
    "import numpy as np\n",
    "import pandas as pd\n",
    "import matplotlib.pyplot as plt\n",
    "import seaborn as sns\n",
    "import tensorflow as tf\n",
    "from tensorflow import keras\n",
    "import re"
   ]
  },
  {
   "cell_type": "code",
   "execution_count": 169,
   "id": "e9d20cbd-3607-4898-bb1c-d170d5a62bfe",
   "metadata": {},
   "outputs": [],
   "source": [
    "regex = re.compile(r'[^a-zA-Z0-9\\s\\']')\n",
    "def clean_text(x):\n",
    "    temp = re.sub(regex, '', x)\n",
    "    return re.sub(r'\\s+', ' ', temp.lower().strip())"
   ]
  },
  {
   "cell_type": "code",
   "execution_count": 4,
   "id": "4ae15f74-49fe-49f9-ba1c-5bcdc57bec14",
   "metadata": {},
   "outputs": [
    {
     "data": {
      "text/html": [
       "<div>\n",
       "<style scoped>\n",
       "    .dataframe tbody tr th:only-of-type {\n",
       "        vertical-align: middle;\n",
       "    }\n",
       "\n",
       "    .dataframe tbody tr th {\n",
       "        vertical-align: top;\n",
       "    }\n",
       "\n",
       "    .dataframe thead th {\n",
       "        text-align: right;\n",
       "    }\n",
       "</style>\n",
       "<table border=\"1\" class=\"dataframe\">\n",
       "  <thead>\n",
       "    <tr style=\"text-align: right;\">\n",
       "      <th></th>\n",
       "      <th>Sentence #</th>\n",
       "      <th>Word</th>\n",
       "      <th>POS</th>\n",
       "      <th>Tag</th>\n",
       "    </tr>\n",
       "  </thead>\n",
       "  <tbody>\n",
       "    <tr>\n",
       "      <th>0</th>\n",
       "      <td>Sentence: 1</td>\n",
       "      <td>Thousands</td>\n",
       "      <td>NNS</td>\n",
       "      <td>O</td>\n",
       "    </tr>\n",
       "    <tr>\n",
       "      <th>1</th>\n",
       "      <td>Sentence: 1</td>\n",
       "      <td>of</td>\n",
       "      <td>IN</td>\n",
       "      <td>O</td>\n",
       "    </tr>\n",
       "    <tr>\n",
       "      <th>2</th>\n",
       "      <td>Sentence: 1</td>\n",
       "      <td>demonstrators</td>\n",
       "      <td>NNS</td>\n",
       "      <td>O</td>\n",
       "    </tr>\n",
       "    <tr>\n",
       "      <th>3</th>\n",
       "      <td>Sentence: 1</td>\n",
       "      <td>have</td>\n",
       "      <td>VBP</td>\n",
       "      <td>O</td>\n",
       "    </tr>\n",
       "    <tr>\n",
       "      <th>4</th>\n",
       "      <td>Sentence: 1</td>\n",
       "      <td>marched</td>\n",
       "      <td>VBN</td>\n",
       "      <td>O</td>\n",
       "    </tr>\n",
       "  </tbody>\n",
       "</table>\n",
       "</div>"
      ],
      "text/plain": [
       "    Sentence #           Word  POS Tag\n",
       "0  Sentence: 1      Thousands  NNS   O\n",
       "1  Sentence: 1             of   IN   O\n",
       "2  Sentence: 1  demonstrators  NNS   O\n",
       "3  Sentence: 1           have  VBP   O\n",
       "4  Sentence: 1        marched  VBN   O"
      ]
     },
     "execution_count": 4,
     "metadata": {},
     "output_type": "execute_result"
    }
   ],
   "source": [
    "data_path = './ner_dataset.csv'\n",
    "\n",
    "data = pd.read_csv(data_path, encoding='unicode_escape').fillna(method='ffill')\n",
    "data.head()"
   ]
  },
  {
   "cell_type": "code",
   "execution_count": 182,
   "id": "fb0c89c4-ff62-42d9-8c70-f705f29f9ff6",
   "metadata": {},
   "outputs": [],
   "source": [
    "# organize data by sentences\n",
    "ready_data = []\n",
    "for index, group in data.groupby('Sentence #'):\n",
    "    text = ' '.join(group['Word'])\n",
    "    temp = [int(index.split()[-1]), text, group['POS'].to_list(), group['Tag'].to_list()]\n",
    "    ready_data.append(temp)\n",
    "\n",
    "ready_data = pd.DataFrame(ready_data, columns=['Sentence #', 'Sentence', 'POS', 'Tag']).\\\n",
    "sort_values('Sentence #').reset_index(drop=1)"
   ]
  },
  {
   "cell_type": "code",
   "execution_count": 183,
   "id": "c4ad6262-8930-4013-b536-9c083e247553",
   "metadata": {},
   "outputs": [
    {
     "data": {
      "text/html": [
       "<div>\n",
       "<style scoped>\n",
       "    .dataframe tbody tr th:only-of-type {\n",
       "        vertical-align: middle;\n",
       "    }\n",
       "\n",
       "    .dataframe tbody tr th {\n",
       "        vertical-align: top;\n",
       "    }\n",
       "\n",
       "    .dataframe thead th {\n",
       "        text-align: right;\n",
       "    }\n",
       "</style>\n",
       "<table border=\"1\" class=\"dataframe\">\n",
       "  <thead>\n",
       "    <tr style=\"text-align: right;\">\n",
       "      <th></th>\n",
       "      <th>Sentence #</th>\n",
       "      <th>Sentence</th>\n",
       "      <th>POS</th>\n",
       "      <th>Tag</th>\n",
       "    </tr>\n",
       "  </thead>\n",
       "  <tbody>\n",
       "    <tr>\n",
       "      <th>0</th>\n",
       "      <td>1</td>\n",
       "      <td>Thousands of demonstrators have marched throug...</td>\n",
       "      <td>[NNS, IN, NNS, VBP, VBN, IN, NNP, TO, VB, DT, ...</td>\n",
       "      <td>[O, O, O, O, O, O, B-geo, O, O, O, O, O, B-geo...</td>\n",
       "    </tr>\n",
       "    <tr>\n",
       "      <th>1</th>\n",
       "      <td>2</td>\n",
       "      <td>Families of soldiers killed in the conflict jo...</td>\n",
       "      <td>[NNS, IN, NNS, VBN, IN, DT, NN, VBD, DT, NNS, ...</td>\n",
       "      <td>[O, O, O, O, O, O, O, O, O, O, O, O, O, O, O, ...</td>\n",
       "    </tr>\n",
       "    <tr>\n",
       "      <th>2</th>\n",
       "      <td>3</td>\n",
       "      <td>They marched from the Houses of Parliament to ...</td>\n",
       "      <td>[PRP, VBD, IN, DT, NNS, IN, NN, TO, DT, NN, IN...</td>\n",
       "      <td>[O, O, O, O, O, O, O, O, O, O, O, B-geo, I-geo...</td>\n",
       "    </tr>\n",
       "    <tr>\n",
       "      <th>3</th>\n",
       "      <td>4</td>\n",
       "      <td>Police put the number of marchers at 10,000 wh...</td>\n",
       "      <td>[NNS, VBD, DT, NN, IN, NNS, IN, CD, IN, NNS, V...</td>\n",
       "      <td>[O, O, O, O, O, O, O, O, O, O, O, O, O, O, O]</td>\n",
       "    </tr>\n",
       "    <tr>\n",
       "      <th>4</th>\n",
       "      <td>5</td>\n",
       "      <td>The protest comes on the eve of the annual con...</td>\n",
       "      <td>[DT, NN, VBZ, IN, DT, NN, IN, DT, JJ, NN, IN, ...</td>\n",
       "      <td>[O, O, O, O, O, O, O, O, O, O, O, B-geo, O, O,...</td>\n",
       "    </tr>\n",
       "    <tr>\n",
       "      <th>...</th>\n",
       "      <td>...</td>\n",
       "      <td>...</td>\n",
       "      <td>...</td>\n",
       "      <td>...</td>\n",
       "    </tr>\n",
       "    <tr>\n",
       "      <th>47954</th>\n",
       "      <td>47955</td>\n",
       "      <td>Indian border security forces are accusing the...</td>\n",
       "      <td>[JJ, NN, NN, NNS, VBP, VBG, PRP$, JJ, NNS, IN,...</td>\n",
       "      <td>[B-gpe, O, O, O, O, O, O, B-gpe, O, O, O, O, O...</td>\n",
       "    </tr>\n",
       "    <tr>\n",
       "      <th>47955</th>\n",
       "      <td>47956</td>\n",
       "      <td>Indian officials said no one was injured in Sa...</td>\n",
       "      <td>[JJ, NNS, VBD, DT, NN, VBD, VBN, IN, NNP, POS,...</td>\n",
       "      <td>[B-gpe, O, O, O, O, O, O, O, B-tim, O, O, O, O...</td>\n",
       "    </tr>\n",
       "    <tr>\n",
       "      <th>47956</th>\n",
       "      <td>47957</td>\n",
       "      <td>Two more landed in fields belonging to a nearb...</td>\n",
       "      <td>[CD, JJR, VBD, IN, NNS, VBG, TO, DT, JJ, NN, .]</td>\n",
       "      <td>[O, O, O, O, O, O, O, O, O, O, O]</td>\n",
       "    </tr>\n",
       "    <tr>\n",
       "      <th>47957</th>\n",
       "      <td>47958</td>\n",
       "      <td>They say not all of the rockets exploded upon ...</td>\n",
       "      <td>[PRP, VBP, RB, DT, IN, DT, NNS, VBD, IN, NN, .]</td>\n",
       "      <td>[O, O, O, O, O, O, O, O, O, O, O]</td>\n",
       "    </tr>\n",
       "    <tr>\n",
       "      <th>47958</th>\n",
       "      <td>47959</td>\n",
       "      <td>Indian forces said they responded to the attack</td>\n",
       "      <td>[JJ, NNS, VBD, PRP, VBD, TO, DT, NN]</td>\n",
       "      <td>[B-gpe, O, O, O, O, O, O, O]</td>\n",
       "    </tr>\n",
       "  </tbody>\n",
       "</table>\n",
       "<p>47959 rows × 4 columns</p>\n",
       "</div>"
      ],
      "text/plain": [
       "       Sentence #  ...                                                Tag\n",
       "0               1  ...  [O, O, O, O, O, O, B-geo, O, O, O, O, O, B-geo...\n",
       "1               2  ...  [O, O, O, O, O, O, O, O, O, O, O, O, O, O, O, ...\n",
       "2               3  ...  [O, O, O, O, O, O, O, O, O, O, O, B-geo, I-geo...\n",
       "3               4  ...      [O, O, O, O, O, O, O, O, O, O, O, O, O, O, O]\n",
       "4               5  ...  [O, O, O, O, O, O, O, O, O, O, O, B-geo, O, O,...\n",
       "...           ...  ...                                                ...\n",
       "47954       47955  ...  [B-gpe, O, O, O, O, O, O, B-gpe, O, O, O, O, O...\n",
       "47955       47956  ...  [B-gpe, O, O, O, O, O, O, O, B-tim, O, O, O, O...\n",
       "47956       47957  ...                  [O, O, O, O, O, O, O, O, O, O, O]\n",
       "47957       47958  ...                  [O, O, O, O, O, O, O, O, O, O, O]\n",
       "47958       47959  ...                       [B-gpe, O, O, O, O, O, O, O]\n",
       "\n",
       "[47959 rows x 4 columns]"
      ]
     },
     "execution_count": 183,
     "metadata": {},
     "output_type": "execute_result"
    }
   ],
   "source": [
    "ready_data"
   ]
  },
  {
   "cell_type": "code",
   "execution_count": 201,
   "id": "4a584c99-3238-43d1-9c80-350d6cbc22f5",
   "metadata": {},
   "outputs": [],
   "source": [
    "features = ready_data['Sentence']\n",
    "labels = ready_data['Tag'].to_list()"
   ]
  },
  {
   "cell_type": "code",
   "execution_count": 179,
   "id": "52133c34-d523-4533-90a6-6877fd9500fe",
   "metadata": {},
   "outputs": [
    {
     "data": {
      "text/plain": [
       "0        thousands of demonstrators have marched throug...\n",
       "1        families of soldiers killed in the conflict jo...\n",
       "2        they marched from the houses of parliament to ...\n",
       "3        police put the number of marchers at 10000 whi...\n",
       "4        the protest comes on the eve of the annual con...\n",
       "                               ...                        \n",
       "47954    indian border security forces are accusing the...\n",
       "47955    indian officials said no one was injured in sa...\n",
       "47956    two more landed in fields belonging to a nearb...\n",
       "47957    they say not all of the rockets exploded upon ...\n",
       "47958      indian forces said they responded to the attack\n",
       "Name: Sentence, Length: 47959, dtype: object"
      ]
     },
     "execution_count": 179,
     "metadata": {},
     "output_type": "execute_result"
    }
   ],
   "source": [
    "features"
   ]
  },
  {
   "cell_type": "code",
   "execution_count": 147,
   "id": "557cf8ae-0fe0-4325-98ff-f6037d3e5cf4",
   "metadata": {},
   "outputs": [],
   "source": [
    "from tensorflow.keras.preprocessing.text import Tokenizer\n",
    "from tensorflow.keras.preprocessing.sequence import pad_sequences"
   ]
  },
  {
   "cell_type": "code",
   "execution_count": 148,
   "id": "3fe3cdac-3ce9-4041-8822-6ce7f411244d",
   "metadata": {},
   "outputs": [
    {
     "data": {
      "text/plain": [
       "(47959,)"
      ]
     },
     "execution_count": 148,
     "metadata": {},
     "output_type": "execute_result"
    }
   ],
   "source": [
    "features.shape"
   ]
  },
  {
   "cell_type": "code",
   "execution_count": 185,
   "id": "6f8226b1-40f5-415f-b6b8-3310563f99c3",
   "metadata": {},
   "outputs": [],
   "source": [
    "# cutoff reviews after 110 words\n",
    "maxlen = 110\n",
    "\n",
    "# consider the top 36000 words in the dataset\n",
    "max_words = 36000\n",
    "\n",
    "# tokenize each sentence in the dataset\n",
    "tokenizer = Tokenizer(num_words=max_words)\n",
    "tokenizer.fit_on_texts(features)\n",
    "sequences = tokenizer.texts_to_sequences(features)"
   ]
  },
  {
   "cell_type": "code",
   "execution_count": 187,
   "id": "c67deedd-1ae7-4784-b86a-80b1ea255836",
   "metadata": {},
   "outputs": [
    {
     "name": "stdout",
     "output_type": "stream",
     "text": [
      "Found 27953 unique tokens.\n"
     ]
    }
   ],
   "source": [
    "word_index = tokenizer.word_index\n",
    "print(\"Found {} unique tokens.\".format(len(word_index)))\n",
    "id2word = dict([(value, key) for (key, value) in word_index.items()])"
   ]
  },
  {
   "cell_type": "code",
   "execution_count": 188,
   "id": "7943eb10-c205-4aec-ab79-d38feb17b3db",
   "metadata": {},
   "outputs": [],
   "source": [
    "word2id = word_index"
   ]
  },
  {
   "cell_type": "code",
   "execution_count": 189,
   "id": "f62877fd-62c6-48bf-a8de-0d273ee1ab22",
   "metadata": {},
   "outputs": [],
   "source": [
    "X_preprocessed = pad_sequences(sequences, maxlen=maxlen, padding='post')"
   ]
  },
  {
   "cell_type": "code",
   "execution_count": 190,
   "id": "74f5b198-903b-45cf-a435-62553fa54c2c",
   "metadata": {},
   "outputs": [
    {
     "data": {
      "text/plain": [
       "array([ 9811,     2,   640,   454,  2760,   155,   944, 15986,  5319,\n",
       "        1941,     3,    61,  4900,   155,  4877, 22425,  1941,    17,\n",
       "       13036, 22426, 22427,     6,   699,   325,   428, 22428,  1941,\n",
       "       13142, 13143, 22429, 22430,    47,   381,    25,  2859,   907,\n",
       "       22431,  2166,     4,   155,  1229, 22432,  1941,     2,   754,\n",
       "         629,     3,    61,  4899,   155,   975, 22433,  1941,    17,\n",
       "       13036,     6,   699,   454,   428, 22434,  1941, 13142, 13143,\n",
       "        1033,  1453,    21,     1,   257,  3560,    22,     1,  4417,\n",
       "           3,     1,  5701,     3,  3783,  2111,  1028,  1243, 22435,\n",
       "          61,  6936,  2197,  3486,     1,   135,  1185,   257,     0,\n",
       "           0,     0,     0,     0,     0,     0,     0,     0,     0,\n",
       "           0,     0,     0,     0,     0,     0,     0,     0,     0,\n",
       "           0,     0], dtype=int32)"
      ]
     },
     "execution_count": 190,
     "metadata": {},
     "output_type": "execute_result"
    }
   ],
   "source": [
    "X_preprocessed[22479]"
   ]
  },
  {
   "cell_type": "code",
   "execution_count": 193,
   "id": "0fee5fec-3127-422d-bfde-6ffc0cf589d2",
   "metadata": {},
   "outputs": [],
   "source": [
    "tags = data['Tag'].unique()\n",
    "tags2id = {}\n",
    "for i, tag in enumerate(tags):\n",
    "    tags2id[tag] = i"
   ]
  },
  {
   "cell_type": "code",
   "execution_count": 196,
   "id": "50b55f3a-79b4-47b7-8b0c-40eb209ec6e7",
   "metadata": {},
   "outputs": [
    {
     "data": {
      "text/plain": [
       "{0: 'O',\n",
       " 1: 'B-geo',\n",
       " 2: 'B-gpe',\n",
       " 3: 'B-per',\n",
       " 4: 'I-geo',\n",
       " 5: 'B-org',\n",
       " 6: 'I-org',\n",
       " 7: 'B-tim',\n",
       " 8: 'B-art',\n",
       " 9: 'I-art',\n",
       " 10: 'I-per',\n",
       " 11: 'I-gpe',\n",
       " 12: 'I-tim',\n",
       " 13: 'B-nat',\n",
       " 14: 'B-eve',\n",
       " 15: 'I-eve',\n",
       " 16: 'I-nat'}"
      ]
     },
     "execution_count": 196,
     "metadata": {},
     "output_type": "execute_result"
    }
   ],
   "source": [
    "id2tag = dict(zip(tags2id.values(), tags2id.keys()))\n",
    "id2tag"
   ]
  },
  {
   "cell_type": "code",
   "execution_count": 208,
   "id": "9f23d303-7b4c-48e9-b06f-5ac45acb6fde",
   "metadata": {},
   "outputs": [],
   "source": [
    "def preprocess_tags(tags2id, Y_ready):\n",
    "    \n",
    "    Y_preprocessed = []\n",
    "    maxlen = 110\n",
    "    # for each target \n",
    "    for y in Y_ready:\n",
    "        \n",
    "        # place holder to store the new preprocessed tag list\n",
    "        Y_place_holder = []\n",
    "        \n",
    "        # for each tag in rhe tag list \n",
    "        for tag in y:\n",
    "            # append the id of the tag in the place holder list\n",
    "            Y_place_holder.append(tags2id[tag])\n",
    "        \n",
    "        # find the lenght of the new preprocessed tag list \n",
    "        len_new_tag_list = len(Y_place_holder)\n",
    "        # find the differance in length between the len of tag list and padded sentences\n",
    "        num_O_to_add = maxlen - len_new_tag_list\n",
    "        \n",
    "        # add 'O's to padd the tag lists\n",
    "        padded_tags = Y_place_holder + ([tags2id['O']] * num_O_to_add)\n",
    "        Y_preprocessed.append(padded_tags)\n",
    "        \n",
    "    return Y_preprocessed"
   ]
  },
  {
   "cell_type": "code",
   "execution_count": 214,
   "id": "a434c1d8-df07-4c49-8eb1-a30fc44c119d",
   "metadata": {},
   "outputs": [],
   "source": [
    "Y_preprocessed = np.array(preprocess_tags(tags2id, labels))"
   ]
  },
  {
   "cell_type": "code",
   "execution_count": 211,
   "id": "692a3782-a410-4e19-8a85-9adaf1d7264e",
   "metadata": {},
   "outputs": [
    {
     "name": "stdout",
     "output_type": "stream",
     "text": [
      "The Lenght of training examples: 47959\n",
      "The Lenght of training targets: 47959\n"
     ]
    }
   ],
   "source": [
    "print(\"The Lenght of training examples: {}\".format(len(X_preprocessed)))\n",
    "print(\"The Lenght of training targets: {}\".format(len(Y_preprocessed)))"
   ]
  },
  {
   "cell_type": "code",
   "execution_count": 217,
   "id": "dc123592-516f-4cbd-88ac-be37b94c104f",
   "metadata": {},
   "outputs": [],
   "source": [
    "# 70% of the datat will be used for training \n",
    "training_samples = 0.7\n",
    "# 15% of the datat will be used for validation \n",
    "validation_samples = 0.15\n",
    "# 15% of the datat will be used for testing \n",
    "testing_samples = 0.15"
   ]
  },
  {
   "cell_type": "code",
   "execution_count": 219,
   "id": "2fbdd52d-8929-433d-ac00-cc788419700f",
   "metadata": {},
   "outputs": [],
   "source": [
    "indices = np.arange(Y_preprocessed.shape[0])\n",
    "np.random.shuffle(indices)"
   ]
  },
  {
   "cell_type": "code",
   "execution_count": 221,
   "id": "8b9cd8c9-c2b4-411f-87e9-0e59c7695203",
   "metadata": {},
   "outputs": [],
   "source": [
    "X_preprocessed = X_preprocessed[indices]\n",
    "Y_preprocessed = Y_preprocessed[indices]"
   ]
  },
  {
   "cell_type": "code",
   "execution_count": 222,
   "id": "069a21ff-1782-4120-a153-087772cce2af",
   "metadata": {},
   "outputs": [
    {
     "name": "stdout",
     "output_type": "stream",
     "text": [
      "Number of training examples: 33571\n",
      "Number of validation examples: 7194\n",
      "Number of testing examples: 7194\n",
      "Total number of examples after shuffling and splitting: 47959\n"
     ]
    }
   ],
   "source": [
    "X_train = X_preprocessed[: int(0.7 * len(X_preprocessed))]\n",
    "print(\"Number of training examples: {}\".format(len(X_train)))\n",
    "\n",
    "\n",
    "X_val = X_preprocessed[int(0.7 * len(X_preprocessed)) : int(0.7 * len(X_preprocessed)) + (int(0.15 * len(X_preprocessed)) + 1)]\n",
    "print(\"Number of validation examples: {}\".format(len(X_val)))\n",
    "\n",
    "\n",
    "X_test = X_preprocessed[int(0.7 * len(X_preprocessed)) + (int(0.15 * len(X_preprocessed)) + 1) : ]\n",
    "print(\"Number of testing examples: {}\".format(len(X_test)))\n",
    "\n",
    "\n",
    "\n",
    "Y_train = Y_preprocessed[: int(0.7 * len(X_preprocessed))]\n",
    "Y_val = Y_preprocessed[int(0.7 * len(X_preprocessed)) : int(0.7 * len(X_preprocessed)) + (int(0.15 * len(X_preprocessed)) + 1)]\n",
    "Y_test = Y_preprocessed[int(0.7 * len(X_preprocessed)) + (int(0.15 * len(X_preprocessed)) + 1) : ]\n",
    "\n",
    "print(\"Total number of examples after shuffling and splitting: {}\".format(len(X_train) + len(X_val) + len(X_test)))"
   ]
  },
  {
   "cell_type": "code",
   "execution_count": 223,
   "id": "8bff0abe-443a-4631-a444-bb9373aba991",
   "metadata": {},
   "outputs": [
    {
     "data": {
      "text/plain": [
       "'nigeria'"
      ]
     },
     "execution_count": 223,
     "metadata": {},
     "output_type": "execute_result"
    }
   ],
   "source": [
    "id2word[729]"
   ]
  },
  {
   "cell_type": "markdown",
   "id": "d4ebef1f-b9b7-4082-8e85-4e103662069c",
   "metadata": {},
   "source": [
    "### Model training"
   ]
  },
  {
   "cell_type": "code",
   "execution_count": 224,
   "id": "ef828863-d829-4dae-aaf1-5502912145fd",
   "metadata": {},
   "outputs": [],
   "source": [
    "train_dataset = tf.data.Dataset.from_tensor_slices((X_train, Y_train))\n",
    "val_dataset = tf.data.Dataset.from_tensor_slices((X_val, Y_val))\n",
    "test_dataset = tf.data.Dataset.from_tensor_slices((X_test, Y_test))"
   ]
  },
  {
   "cell_type": "code",
   "execution_count": 225,
   "id": "81863671-c0e9-40db-8877-b0193c25b90d",
   "metadata": {},
   "outputs": [],
   "source": [
    "BATCH_SIZE = 132\n",
    "SHUFFLE_BUFFER_SIZE = 132\n",
    "\n",
    "train_dataset = train_dataset.shuffle(SHUFFLE_BUFFER_SIZE).batch(BATCH_SIZE)\n",
    "val_dataset = val_dataset.batch(BATCH_SIZE)\n",
    "test_dataset = test_dataset.batch(BATCH_SIZE)"
   ]
  },
  {
   "cell_type": "code",
   "execution_count": 226,
   "id": "307c6444-1478-4849-8391-d6b87ed4b429",
   "metadata": {},
   "outputs": [],
   "source": [
    "embedding_dim = 300\n",
    "maxlen = 110\n",
    "max_words = 36000\n",
    "num_tags = len(tags)\n",
    "\n",
    "model = tf.keras.models.Sequential([\n",
    "    keras.layers.Embedding(max_words, embedding_dim, input_length=maxlen),\n",
    "    keras.layers.Bidirectional(keras.layers.LSTM(units=100, activation='tanh', return_sequences=True)),\n",
    "    keras.layers.Bidirectional(keras.layers.LSTM(units=100, activation='tanh', return_sequences=True)),\n",
    "    keras.layers.TimeDistributed(keras.layers.Dense(num_tags, activation='softmax'))\n",
    "])"
   ]
  },
  {
   "cell_type": "code",
   "execution_count": 227,
   "id": "bb89c9f0-52bb-4750-b1fc-a14d9fa2b74d",
   "metadata": {},
   "outputs": [
    {
     "name": "stdout",
     "output_type": "stream",
     "text": [
      "Model: \"sequential\"\n",
      "_________________________________________________________________\n",
      " Layer (type)                Output Shape              Param #   \n",
      "=================================================================\n",
      " embedding (Embedding)       (None, 110, 300)          10800000  \n",
      "                                                                 \n",
      " bidirectional (Bidirectiona  (None, 110, 200)         320800    \n",
      " l)                                                              \n",
      "                                                                 \n",
      " bidirectional_1 (Bidirectio  (None, 110, 200)         240800    \n",
      " nal)                                                            \n",
      "                                                                 \n",
      " time_distributed (TimeDistr  (None, 110, 17)          3417      \n",
      " ibuted)                                                         \n",
      "                                                                 \n",
      "=================================================================\n",
      "Total params: 11,365,017\n",
      "Trainable params: 11,365,017\n",
      "Non-trainable params: 0\n",
      "_________________________________________________________________\n"
     ]
    }
   ],
   "source": [
    "model.summary()"
   ]
  },
  {
   "cell_type": "code",
   "execution_count": 228,
   "id": "5fa5e166-da9c-410d-b24b-f7b1292aac54",
   "metadata": {},
   "outputs": [],
   "source": [
    "model.compile(loss='sparse_categorical_crossentropy',\n",
    "              optimizer='adam',\n",
    "              metrics=['accuracy'])"
   ]
  },
  {
   "cell_type": "code",
   "execution_count": 229,
   "id": "4a11d4b3-aa79-4a3a-a8e6-7382572b6470",
   "metadata": {},
   "outputs": [
    {
     "name": "stdout",
     "output_type": "stream",
     "text": [
      "Epoch 1/15\n"
     ]
    },
    {
     "name": "stderr",
     "output_type": "stream",
     "text": [
      "2023-01-31 15:16:07.107286: W tensorflow/tsl/platform/profile_utils/cpu_utils.cc:128] Failed to get CPU frequency: 0 Hz\n"
     ]
    },
    {
     "name": "stdout",
     "output_type": "stream",
     "text": [
      "255/255 [==============================] - 180s 699ms/step - loss: 0.1842 - accuracy: 0.9659 - val_loss: 0.1125 - val_accuracy: 0.9705\n",
      "Epoch 2/15\n",
      "255/255 [==============================] - 179s 702ms/step - loss: 0.0961 - accuracy: 0.9728 - val_loss: 0.0802 - val_accuracy: 0.9760\n",
      "Epoch 3/15\n",
      "255/255 [==============================] - 176s 691ms/step - loss: 0.0673 - accuracy: 0.9785 - val_loss: 0.0677 - val_accuracy: 0.9786\n",
      "Epoch 4/15\n",
      "255/255 [==============================] - 180s 708ms/step - loss: 0.0541 - accuracy: 0.9818 - val_loss: 0.0651 - val_accuracy: 0.9796\n",
      "Epoch 5/15\n",
      "255/255 [==============================] - 181s 709ms/step - loss: 0.0454 - accuracy: 0.9844 - val_loss: 0.0656 - val_accuracy: 0.9802\n",
      "Epoch 6/15\n",
      "255/255 [==============================] - 183s 717ms/step - loss: 0.0397 - accuracy: 0.9864 - val_loss: 0.0707 - val_accuracy: 0.9806\n",
      "Epoch 7/15\n",
      "255/255 [==============================] - 182s 713ms/step - loss: 0.0357 - accuracy: 0.9878 - val_loss: 0.0702 - val_accuracy: 0.9806\n",
      "Epoch 8/15\n",
      "255/255 [==============================] - 183s 718ms/step - loss: 0.0316 - accuracy: 0.9892 - val_loss: 0.0733 - val_accuracy: 0.9805\n",
      "Epoch 9/15\n",
      "255/255 [==============================] - 182s 715ms/step - loss: 0.0282 - accuracy: 0.9904 - val_loss: 0.0772 - val_accuracy: 0.9809\n",
      "Epoch 10/15\n",
      "255/255 [==============================] - 182s 714ms/step - loss: 0.0252 - accuracy: 0.9915 - val_loss: 0.0811 - val_accuracy: 0.9808\n",
      "Epoch 11/15\n",
      "255/255 [==============================] - 180s 704ms/step - loss: 0.0228 - accuracy: 0.9923 - val_loss: 0.0810 - val_accuracy: 0.9800\n",
      "Epoch 12/15\n",
      "255/255 [==============================] - 180s 705ms/step - loss: 0.0202 - accuracy: 0.9933 - val_loss: 0.0891 - val_accuracy: 0.9798\n",
      "Epoch 13/15\n",
      "255/255 [==============================] - 181s 709ms/step - loss: 0.0175 - accuracy: 0.9942 - val_loss: 0.0966 - val_accuracy: 0.9797\n",
      "Epoch 14/15\n",
      "255/255 [==============================] - 182s 713ms/step - loss: 0.0153 - accuracy: 0.9950 - val_loss: 0.0992 - val_accuracy: 0.9799\n",
      "Epoch 15/15\n",
      "255/255 [==============================] - 184s 721ms/step - loss: 0.0135 - accuracy: 0.9957 - val_loss: 0.1031 - val_accuracy: 0.9795\n"
     ]
    }
   ],
   "source": [
    "history = model.fit(train_dataset,\n",
    "                    validation_data=val_dataset,\n",
    "                    epochs=15)"
   ]
  },
  {
   "cell_type": "code",
   "execution_count": 230,
   "id": "efea6c13-fc26-45c2-8809-ed7b198717e1",
   "metadata": {},
   "outputs": [
    {
     "name": "stdout",
     "output_type": "stream",
     "text": [
      "55/55 [==============================] - 12s 226ms/step - loss: 0.0995 - accuracy: 0.9803\n"
     ]
    },
    {
     "data": {
      "text/plain": [
       "[0.09945090860128403, 0.9802941679954529]"
      ]
     },
     "execution_count": 230,
     "metadata": {},
     "output_type": "execute_result"
    }
   ],
   "source": [
    "model.evaluate(test_dataset)"
   ]
  },
  {
   "cell_type": "code",
   "execution_count": 231,
   "id": "5f6554cd-6f7b-4971-99ba-21d91a7eee39",
   "metadata": {},
   "outputs": [
    {
     "data": {
      "image/png": "[encoded data removed]",
      "text/plain": [
       "<Figure size 480x320 with 2 Axes>"
      ]
     },
     "metadata": {},
     "output_type": "display_data"
    }
   ],
   "source": [
    "acc = history.history['accuracy']\n",
    "val_acc = history.history['val_accuracy']\n",
    "\n",
    "loss = history.history['loss']\n",
    "val_loss = history.history['val_loss']\n",
    "\n",
    "epochs = range(1, len(acc) + 1)\n",
    "\n",
    "fig, ax = plt.subplots(1, 2, constrained_layout=True, figsize=(6, 4), dpi=80)\n",
    "\n",
    "ax[0].plot(epochs, acc, label = \"Training Accuracy\", color='darkblue')\n",
    "ax[0].plot(epochs, val_acc, label = \"Validation Accuracy\", color='darkgreen')\n",
    "ax[0].grid(alpha=0.3)\n",
    "ax[0].title.set_text('Training Vs Validation Accuracy')\n",
    "ax[0].fill_between(epochs, acc, val_acc, color='crimson', alpha=0.3)\n",
    "plt.setp(ax[0], xlabel='Epochs')\n",
    "plt.setp(ax[0], ylabel='Accuracy')\n",
    "\n",
    "\n",
    "ax[1].plot(epochs, loss, label = \"Training Loss\", color='darkblue')\n",
    "ax[1].plot(epochs, val_loss, label = \"Validation Loss\", color='darkgreen')\n",
    "ax[1].grid(alpha=0.3)\n",
    "ax[1].title.set_text('Training Vs Validation Loss')\n",
    "ax[1].fill_between(epochs,loss, val_loss, color='crimson', alpha=0.3)\n",
    "plt.setp(ax[1], xlabel='Epochs')\n",
    "plt.setp(ax[1], ylabel='Loss')\n",
    "\n",
    "plt.show()"
   ]
  },
  {
   "cell_type": "code",
   "execution_count": 240,
   "id": "8775093a-fba9-4cb3-8df3-82ee0c711859",
   "metadata": {},
   "outputs": [],
   "source": [
    "def make_prediction(model, preprocessed_sentence, id2word, id2tag):\n",
    "    \n",
    "    #if preprocessed_sentence.shape() != (1, 110):\n",
    "    preprocessed_sentence = preprocessed_sentence.reshape((1, 110))\n",
    "     \n",
    "    # return preprocessed sentence to its orginal form\n",
    "    sentence = preprocessed_sentence[preprocessed_sentence > 0]\n",
    "    word_list = []\n",
    "    for word in list(sentence):\n",
    "        word_list.append(id2word[word])\n",
    "    orginal_sententce = ' '.join(word_list)\n",
    "    \n",
    "    len_orginal_sententce = len(word_list)\n",
    "    \n",
    "    # make prediction\n",
    "    prediction = model.predict(preprocessed_sentence)\n",
    "    prediction = np.argmax(prediction[0], axis=1)\n",
    "    \n",
    "    # return the prediction to its orginal form\n",
    "    prediction = list(prediction)[ : len_orginal_sententce] \n",
    "    \n",
    "    pred_tag_list = []\n",
    "    for tag_id in prediction:\n",
    "        pred_tag_list.append(id2tag[tag_id])\n",
    "    \n",
    "    return orginal_sententce,  pred_tag_list"
   ]
  },
  {
   "cell_type": "code",
   "execution_count": 241,
   "id": "7785cae6-1974-4b7e-a493-118e396f5c5f",
   "metadata": {},
   "outputs": [
    {
     "name": "stdout",
     "output_type": "stream",
     "text": [
      "1/1 [==============================] - 0s 23ms/step\n"
     ]
    }
   ],
   "source": [
    "orginal_sententce,  pred_tag_list = make_prediction(model=model,\n",
    "                                                    preprocessed_sentence=X_test[520],\n",
    "                                                    id2word=id2word,\n",
    "                                                    id2tag=id2tag)"
   ]
  },
  {
   "cell_type": "code",
   "execution_count": 242,
   "id": "b8824c7c-5cd6-4125-8c64-e0204af6b0e8",
   "metadata": {},
   "outputs": [
    {
     "data": {
      "text/plain": [
       "array([   1,   14,   20,  230,    3,   69, 3253,   12,    1,  119,   32,\n",
       "       6855,    2,    1, 1137,  292,    0,    0,    0,    0,    0,    0,\n",
       "          0,    0,    0,    0,    0,    0,    0,    0,    0,    0,    0,\n",
       "          0,    0,    0,    0,    0,    0,    0,    0,    0,    0,    0,\n",
       "          0,    0,    0,    0,    0,    0,    0,    0,    0,    0,    0,\n",
       "          0,    0,    0,    0,    0,    0,    0,    0,    0,    0,    0,\n",
       "          0,    0,    0,    0,    0,    0,    0,    0,    0,    0,    0,\n",
       "          0,    0,    0,    0,    0,    0,    0,    0,    0,    0,    0,\n",
       "          0,    0,    0,    0,    0,    0,    0,    0,    0,    0,    0,\n",
       "          0,    0,    0,    0,    0,    0,    0,    0,    0,    0,    0],\n",
       "      dtype=int32)"
      ]
     },
     "execution_count": 242,
     "metadata": {},
     "output_type": "execute_result"
    }
   ],
   "source": [
    "X_test[520]"
   ]
  },
  {
   "cell_type": "code",
   "execution_count": 243,
   "id": "484249b0-ecc5-483b-8f76-01fedb98bfa0",
   "metadata": {},
   "outputs": [
    {
     "name": "stdout",
     "output_type": "stream",
     "text": [
      "the u s secretary of state predicted that the talks will intensify in the coming months\n"
     ]
    }
   ],
   "source": [
    "print(orginal_sententce)"
   ]
  },
  {
   "cell_type": "code",
   "execution_count": 244,
   "id": "b80ff870-3aa4-4140-9aaf-d488bea81242",
   "metadata": {},
   "outputs": [
    {
     "name": "stdout",
     "output_type": "stream",
     "text": [
      "['O', 'B-geo', 'O', 'O', 'O', 'O', 'O', 'O', 'O', 'O', 'O', 'O', 'O', 'O', 'O', 'O']\n"
     ]
    }
   ],
   "source": [
    "print(pred_tag_list)"
   ]
  },
  {
   "cell_type": "code",
   "execution_count": null,
   "id": "a0427a25-6f25-406c-bfc8-563343bbbf72",
   "metadata": {},
   "outputs": [],
   "source": []
  }
 ],
 "metadata": {
  "kernelspec": {
   "display_name": "Python 3 (ipykernel)",
   "language": "python",
   "name": "python3"
  },
  "language_info": {
   "codemirror_mode": {
    "name": "ipython",
    "version": 3
   },
   "file_extension": ".py",
   "mimetype": "text/x-python",
   "name": "python",
   "nbconvert_exporter": "python",
   "pygments_lexer": "ipython3",
   "version": "3.8.15"
  }
 },
 "nbformat": 4,
 "nbformat_minor": 5
}
