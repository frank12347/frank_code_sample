{
 "cells": [
  {
   "cell_type": "code",
   "execution_count": null,
   "id": "3ccd9a0f-0bab-46ae-aa00-94303b702953",
   "metadata": {},
   "outputs": [],
   "source": [
    "import requests\n",
    "import json\n",
    "from twitter_api import TwitterSearch, clean_text"
   ]
  },
  {
   "cell_type": "markdown",
   "id": "e69147ed-33fc-4f5a-b0ed-87201a7da746",
   "metadata": {
    "tags": []
   },
   "source": [
    "# Twitter Scrapper code testing\n",
    "\n",
    "Below examples show how to use the module to extract tweets and user information\n",
    "!!!You need to apply for a bearer token to request access for twitter API"
   ]
  },
  {
   "cell_type": "markdown",
   "id": "808c0dcf-c6d1-4a11-bb12-e9c21c00f173",
   "metadata": {},
   "source": [
    "### Search tweets for the topic of bitcoin or cryto"
   ]
  },
  {
   "cell_type": "code",
   "execution_count": 2,
   "id": "8d36348b-0c70-47e3-8c51-98e693638130",
   "metadata": {},
   "outputs": [],
   "source": [
    "# set query and token\n",
    "bearer_token = 'YOUR TOKEN(replace this string)'\n",
    "query = '(#bitcoin OR #Crypto) -is:retweet lang:en'"
   ]
  },
  {
   "cell_type": "code",
   "execution_count": 3,
   "id": "6ef4f0c3-fccf-447a-9239-1865e1f15969",
   "metadata": {},
   "outputs": [],
   "source": [
    "# initialize twitter api\n",
    "api = TwitterSearch(bearer_token, query, last_day=True)"
   ]
  },
  {
   "cell_type": "code",
   "execution_count": 4,
   "id": "23297080-11dd-4db9-8612-d99bba89befa",
   "metadata": {},
   "outputs": [
    {
     "name": "stdout",
     "output_type": "stream",
     "text": [
      "Total 172026 tweets from 2022-02-24T00:00:00.000Z to 2022-02-25T00:00:00.000Z\n"
     ]
    }
   ],
   "source": [
    "# Print the tweets count from last day\n",
    "print(api)"
   ]
  },
  {
   "cell_type": "markdown",
   "id": "c10dc474-3d2c-4f76-858a-8313bec5a55e",
   "metadata": {},
   "source": [
    "### Test on getting 10000 tweets"
   ]
  },
  {
   "cell_type": "code",
   "execution_count": 6,
   "id": "3a50837b-9d3b-4178-8991-7f31c0bd4156",
   "metadata": {},
   "outputs": [
    {
     "name": "stdout",
     "output_type": "stream",
     "text": [
      "Session initilized\n"
     ]
    }
   ],
   "source": [
    "#save tweets to an object\n",
    "result = api.collect_tweets(wait_seconds=0, max_tweets=1000)"
   ]
  },
  {
   "cell_type": "code",
   "execution_count": 5,
   "id": "eb4fe173-146d-4259-abb1-26c6a7e0f1d7",
   "metadata": {},
   "outputs": [
    {
     "data": {
      "text/plain": [
       "{'query': '(#bitcoin OR #Crypto) -is:retweet lang:en',\n",
       " 'max_results': 100,\n",
       " 'next_token': None,\n",
       " 'start_time': '2022-02-24T00:00:00Z',\n",
       " 'end_time': '2022-02-24T23:59:59Z'}"
      ]
     },
     "execution_count": 5,
     "metadata": {},
     "output_type": "execute_result"
    }
   ],
   "source": [
    "#check configurations\n",
    "api.paras"
   ]
  },
  {
   "cell_type": "markdown",
   "id": "0ff4b9a1-3683-4ff6-a389-39db8c59b03e",
   "metadata": {},
   "source": [
    "### Compare text before and after cleaning"
   ]
  },
  {
   "cell_type": "code",
   "execution_count": 16,
   "id": "e597d60a-535c-401a-a1ce-278bacc84497",
   "metadata": {},
   "outputs": [],
   "source": [
    "import re\n",
    "regex = re.compile(r'([#$@]\\S+)|(http\\S+)|[^\\w\\s]')\n",
    "\n",
    "def clean_text(x):\n",
    "    \"\"\"Remove non-letter characters, url, and convert it to lowercase\"\"\"\n",
    "    return re.sub(regex, '', x.lower())"
   ]
  },
  {
   "cell_type": "code",
   "execution_count": 12,
   "id": "39ffc860-ec86-470f-a7ec-b2b36589f3e0",
   "metadata": {},
   "outputs": [
    {
     "data": {
      "text/plain": [
       "['@NftKaori 🚨HELLO GEMFINDERS, HAVE YOU HEARD OF ARCHREALM💹?\\n\\n⭐NFT 3D P2E Game\\n⭐Cross Chain NFT marketplace\\n⭐Asgardian 3D NFT collections\\n⭐NFT Stacking\\n☑️https://t.co/WqlUa709ep\\n\\n#ARCHREALM #NFT #GAMEFI #CRYPTO #BNB #BSC #HOLD #METAVERSE #BITCOIN #GAMING #P2E #PVP #GAME #ASGARDIAN',\n",
       " \"Ello me old chum!\\n#NFT #meme #crypto $ETH @opensea\\n1 OF 1 \\nFrom the original 3d artist\\nYOU'VE BEEN GNOMED!\\nhttps://t.co/rXAatHX6Tl\",\n",
       " '@GalaxyFight_NFT A good way to introduce your project to us by giving the airdrop, I hope it becomes popular\\n@teddyberag @ngan_limin99 @tehgelasmahal \\n#Airdrops #Giveaway\\n#Crypto #Airdrops #Blockchain #CryptoNews',\n",
       " \"@CryptoMichNL Actually the recent happenings in Ukraine has an effect on the market lately, well I'm still generally Bullish on #Bitcoin and also on $BREED @BreederDAO https://t.co/tbir9LqRyi\",\n",
       " \"It's great that we can just take and multiply our capital like that.  From anywhere in the world!\\n\\n#xrp #eth #DeFi #NFTGiveaway #crypto #ripple\\n\\nhttps://t.co/kgXy0oUp2B\"]"
      ]
     },
     "execution_count": 12,
     "metadata": {},
     "output_type": "execute_result"
    }
   ],
   "source": [
    "#original tweets\n",
    "result[:5]"
   ]
  },
  {
   "cell_type": "code",
   "execution_count": 24,
   "id": "93b481ad-1183-4b2d-b380-5f2c9209683d",
   "metadata": {},
   "outputs": [
    {
     "name": "stdout",
     "output_type": "stream",
     "text": [
      "hello gemfinders have you heard of archrealm\n",
      "\n",
      "nft 3d p2e game\n",
      "cross chain nft marketplace\n",
      "asgardian 3d nft collections\n",
      "nft stacking\n",
      "\n",
      "ello me old chum\n",
      "    \n",
      "1 of 1 \n",
      "from the original 3d artist\n",
      "youve been gnomed\n",
      "\n",
      "a good way to introduce your project to us by giving the airdrop i hope it becomes popular\n",
      "\n",
      "actually the recent happenings in ukraine has an effect on the market lately well im still generally bullish on  and also on\n",
      "\n",
      "its great that we can just take and multiply our capital like that  from anywhere in the world\n",
      "\n"
     ]
    }
   ],
   "source": [
    "# tweets after cleaning\n",
    "for x in result[:5]:\n",
    "    print(clean_text(x).strip())\n",
    "    print()"
   ]
  },
  {
   "cell_type": "markdown",
   "id": "130501b6-3f3d-4e9c-a5f4-613758fb1fe0",
   "metadata": {},
   "source": [
    "### Make a single query with any query string"
   ]
  },
  {
   "cell_type": "code",
   "execution_count": null,
   "id": "14cad35e-539a-42ca-844b-7cc979f22aaf",
   "metadata": {},
   "outputs": [],
   "source": [
    "test = api.search('bitcoin -is:retweet lang:en')"
   ]
  },
  {
   "cell_type": "code",
   "execution_count": 59,
   "id": "13c98799-d4fb-4d5e-bdd5-565298b305df",
   "metadata": {},
   "outputs": [
    {
     "data": {
      "text/plain": [
       "[{'id': '1496984167065833478',\n",
       "  'text': 'Bitcoin Monthly Cyclicality Paints Grim Picture For Last Week Of\\xa0February https://t.co/4AYls2BKhk'},\n",
       " {'id': '1496984166512357380',\n",
       "  'text': 'Potential evening star bearish  reversal candle on the 1hr time Frame , trade cautiously #bitcoin https://t.co/CYeshzVhlP'},\n",
       " {'id': '1496984159650480129',\n",
       "  'text': \"Wow, what a daily candle for #btc. \\n\\nThe long-legged doji shows indecision in the market (supply/demand at equilibrium), &amp; often marks the end of a trend or the beginning of a consolidation period.\\n\\nBased on the volume, I believe we've seen atleast a local bottom.\\n\\n#bitcoin https://t.co/nW4lP5qfr9\"}]"
      ]
     },
     "execution_count": 61,
     "metadata": {},
     "output_type": "execute_result"
    }
   ],
   "source": [
    "test['data'][:3]"
   ]
  },
  {
   "cell_type": "code",
   "execution_count": 45,
   "id": "7a4a6b9b-1554-4741-832a-e19257d714b0",
   "metadata": {},
   "outputs": [
    {
     "data": {
      "text/plain": [
       "{'newest_id': '1496984167065833478',\n",
       " 'oldest_id': '1496984076854640641',\n",
       " 'result_count': 99,\n",
       " 'next_token': 'b26v89c19zqg8o3fpe77faxq6yez1in457cqi27jkdcot'}"
      ]
     },
     "execution_count": 45,
     "metadata": {},
     "output_type": "execute_result"
    }
   ],
   "source": [
    "test['meta']"
   ]
  },
  {
   "cell_type": "markdown",
   "id": "9edca3e9-7b4a-4257-a7f2-ffec1c2ec2c3",
   "metadata": {},
   "source": [
    "### Search by tweet ID "
   ]
  },
  {
   "cell_type": "code",
   "execution_count": 47,
   "id": "b48d7ae3-b375-4483-937c-5be7d8c0c24b",
   "metadata": {},
   "outputs": [],
   "source": [
    "ids = [x['id'] for x in test['data']]"
   ]
  },
  {
   "cell_type": "code",
   "execution_count": 52,
   "id": "9f2f97bb-4c06-42af-8935-219d624c4211",
   "metadata": {},
   "outputs": [
    {
     "name": "stdout",
     "output_type": "stream",
     "text": [
      "[{'author_id': '1450500744482807809', 'id': '1496984167065833478', 'text': 'Bitcoin Monthly Cyclicality Paints Grim Picture For Last Week Of\\xa0February https://t.co/4AYls2BKhk'}, {'author_id': '1454027499797630979', 'id': '1496984167044812802', 'text': 'RT @Shawn_Nik: Get ready for HUGE drop  2200x #BTC  just transferred into #Binance  and the whales are ready to sell and dump the price  \\n#…'}, {'author_id': '1412914258279493632', 'id': '1496984166692696064', 'text': 'RT @Steam_Exchange: $SteamX tops the charts for another consecutive week!\\n\\nLearn more about what makes the #SteamExchange ecosystem unique…'}, {'author_id': '910993270876106752', 'id': '1496984166512357380', 'text': 'Potential evening star bearish  reversal candle on the 1hr time Frame , trade cautiously #bitcoin https://t.co/CYeshzVhlP'}, {'author_id': '3335039729', 'id': '1496984166327468034', 'text': 'RT @louishliu: We gonna see SWIFT being replaced by #Bitcoin really soon…'}]\n"
     ]
    }
   ],
   "source": [
    "temp = api.search_by_tweet_id(ids, tweet_fields='author_id')\n",
    "print(temp['data'][:5])"
   ]
  },
  {
   "cell_type": "markdown",
   "id": "a123270d-fe67-410d-bcdd-22bb093b3790",
   "metadata": {},
   "source": [
    "### Search user information"
   ]
  },
  {
   "cell_type": "code",
   "execution_count": 53,
   "id": "922be6d3-b119-4bcc-9415-f2d26db89add",
   "metadata": {},
   "outputs": [
    {
     "data": {
      "text/plain": [
       "{'data': [{'id': '1489626611024547847',\n",
       "   'name': 'Madhuranga Jayasingha',\n",
       "   'username': 'madhuranga'},\n",
       "  {'id': '1494607082607493121',\n",
       "   'name': 'Arielle',\n",
       "   'username': 'ArielleAndrea22'}]}"
      ]
     },
     "execution_count": 53,
     "metadata": {},
     "output_type": "execute_result"
    }
   ],
   "source": [
    "api.search_by_user_id(['1489626611024547847', '1494607082607493121'])"
   ]
  }
 ],
 "metadata": {
  "kernelspec": {
   "display_name": "Python 3 (ipykernel)",
   "language": "python",
   "name": "python3"
  },
  "language_info": {
   "codemirror_mode": {
    "name": "ipython",
    "version": 3
   },
   "file_extension": ".py",
   "mimetype": "text/x-python",
   "name": "python",
   "nbconvert_exporter": "python",
   "pygments_lexer": "ipython3",
   "version": "3.9.7"
  }
 },
 "nbformat": 4,
 "nbformat_minor": 5
}
