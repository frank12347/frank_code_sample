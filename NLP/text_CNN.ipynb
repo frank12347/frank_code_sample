{
  "nbformat": 4,
  "nbformat_minor": 0,
  "metadata": {
    "colab": {
      "name": "text_practice.ipynb",
      "provenance": [],
      "collapsed_sections": [],
      "toc_visible": true
    },
    "kernelspec": {
      "name": "python3",
      "display_name": "Python 3"
    },
    "accelerator": "GPU"
  },
  "cells": [
    {
      "cell_type": "markdown",
      "metadata": {
        "id": "vfQNB6si2cgh"
      },
      "source": [
        "# Text classification by RNN for BBC sport dataset\n"
      ]
    },
    {
      "cell_type": "code",
      "metadata": {
        "colab": {
          "base_uri": "https://localhost:8080/"
        },
        "id": "jo6KEhuxO_bG",
        "outputId": "39bab930-7ecc-4978-b51e-afcfea71f750"
      },
      "source": [
        "# install tensorflow text processor\n",
        "!pip install -q -U tensorflow-text"
      ],
      "execution_count": 1,
      "outputs": [
        {
          "output_type": "stream",
          "text": [
            "\u001b[K     |████████████████████████████████| 3.4MB 9.8MB/s \n",
            "\u001b[?25h"
          ],
          "name": "stdout"
        }
      ]
    },
    {
      "cell_type": "code",
      "metadata": {
        "id": "KgJkiJbtOrkZ"
      },
      "source": [
        "import collections\n",
        "import pathlib\n",
        "import re\n",
        "import string\n",
        "import numpy as np\n",
        "import matplotlib.pyplot as plt\n",
        "\n",
        "import tensorflow as tf\n",
        "\n",
        "from tensorflow.keras import layers\n",
        "from tensorflow.keras import losses\n",
        "from tensorflow.keras import preprocessing\n",
        "from tensorflow.keras import utils\n",
        "from tensorflow.keras.layers.experimental.preprocessing import TextVectorization\n",
        "\n",
        "import tensorflow_datasets as tfds\n",
        "import tensorflow_text as tf_text\n",
        "import shutil\n",
        "import os"
      ],
      "execution_count": 2,
      "outputs": []
    },
    {
      "cell_type": "markdown",
      "metadata": {
        "id": "C60b7G_k2-6d"
      },
      "source": [
        "## Load data from url and create train, test and validation set"
      ]
    },
    {
      "cell_type": "code",
      "metadata": {
        "colab": {
          "base_uri": "https://localhost:8080/"
        },
        "id": "oUdgxTq5O3uh",
        "outputId": "efa830a8-2174-477e-947e-c76251c11885"
      },
      "source": [
        "data_url = 'http://mlg.ucd.ie/files/datasets/bbcsport-fulltext.zip'\n",
        "dataset = utils.get_file(\n",
        "    'bbcsport-fulltext.zip',\n",
        "    data_url,\n",
        "    cache_subdir='datasets', hash_algorithm='auto',\n",
        "    extract=True, archive_format='auto', cache_dir=None)\n",
        "dataset_dir = pathlib.Path(dataset).parent"
      ],
      "execution_count": 3,
      "outputs": [
        {
          "output_type": "stream",
          "text": [
            "Downloading data from http://mlg.ucd.ie/files/datasets/bbcsport-fulltext.zip\n",
            "876544/869685 [==============================] - 0s 0us/step\n"
          ],
          "name": "stdout"
        }
      ]
    },
    {
      "cell_type": "code",
      "metadata": {
        "colab": {
          "base_uri": "https://localhost:8080/"
        },
        "id": "IAmalzRePVeG",
        "outputId": "ef6553ba-a921-4ebc-b121-1557250535ae"
      },
      "source": [
        "list(dataset_dir.iterdir())"
      ],
      "execution_count": 4,
      "outputs": [
        {
          "output_type": "execute_result",
          "data": {
            "text/plain": [
              "[PosixPath('/root/.keras/datasets/bbcsport'),\n",
              " PosixPath('/root/.keras/datasets/bbcsport-fulltext.zip')]"
            ]
          },
          "metadata": {
            "tags": []
          },
          "execution_count": 4
        }
      ]
    },
    {
      "cell_type": "code",
      "metadata": {
        "colab": {
          "base_uri": "https://localhost:8080/"
        },
        "id": "_pEvo_ljPajl",
        "outputId": "f54a2982-770c-4c87-ac11-022d7686f3b7"
      },
      "source": [
        "sport_dir = dataset_dir/'bbcsport'\n",
        "\n",
        "remove_dir = os.path.join(sport_dir, 'README.TXT')\n",
        "os.remove(remove_dir)\n",
        "# shutil.rmtree(remove_dir)\n",
        "list(sport_dir.iterdir())"
      ],
      "execution_count": 5,
      "outputs": [
        {
          "output_type": "execute_result",
          "data": {
            "text/plain": [
              "[PosixPath('/root/.keras/datasets/bbcsport/tennis'),\n",
              " PosixPath('/root/.keras/datasets/bbcsport/athletics'),\n",
              " PosixPath('/root/.keras/datasets/bbcsport/cricket'),\n",
              " PosixPath('/root/.keras/datasets/bbcsport/rugby'),\n",
              " PosixPath('/root/.keras/datasets/bbcsport/football')]"
            ]
          },
          "metadata": {
            "tags": []
          },
          "execution_count": 5
        }
      ]
    },
    {
      "cell_type": "code",
      "metadata": {
        "colab": {
          "base_uri": "https://localhost:8080/"
        },
        "id": "kZLfTDwcWYAR",
        "outputId": "77b183cc-e456-4665-e3ac-6fc2ed3a8f6d"
      },
      "source": [
        "# check sample folder\n",
        "rugby = sport_dir/'rugby'\n",
        "len(list(rugby.iterdir()))"
      ],
      "execution_count": 6,
      "outputs": [
        {
          "output_type": "execute_result",
          "data": {
            "text/plain": [
              "147"
            ]
          },
          "metadata": {
            "tags": []
          },
          "execution_count": 6
        }
      ]
    },
    {
      "cell_type": "markdown",
      "metadata": {
        "id": "fDMUCk6VQsU9"
      },
      "source": [
        "### Create train, validation and test dataset"
      ]
    },
    {
      "cell_type": "code",
      "metadata": {
        "colab": {
          "base_uri": "https://localhost:8080/"
        },
        "id": "Vdosb254P4jW",
        "outputId": "d335dc31-de33-466e-c3aa-a1873c25a1a5"
      },
      "source": [
        "# check one sample\n",
        "sample_file = sport_dir/'rugby'/'035.txt'\n",
        "with open(sample_file) as file:\n",
        "  print(file.read())"
      ],
      "execution_count": 7,
      "outputs": [
        {
          "output_type": "stream",
          "text": [
            "Williams says he will never quit\n",
            "\n",
            "Defiant Matt Williams says he will not quit as Scotland coach even if his side slump to a new low with defeat by Italy at Murrayfield.\n",
            "\n",
            "That would leave the Scots as favourites to win the Wooden Spoon for the second year running. \"I have never quit anything in my life, apart from maybe painting the kitchen,\" he told BBC Sport. \"The support we have been given from Murrayfield in my whole time here has been 100%.\" Williams has yet to experience an RBS Six Nations victory after seven attempts and Scotland have lost 12 of their 14 games under his leadership. But he rejected the comparison made in some media sources with Berti Vogts, recently sacked as Scotland football manager after a poor run of results.\n",
            "\n",
            "\"How can a German football coach and an Australian rugby coach have anything in common?\" he asked. \"It is a bizarre analogy. It is so absurd that it borders on the humorous.\" Williams insists that he is revelling in the pressure, despite the possibility of a second Six Nations series without a victory. \"That is not beyond the realms of possibility,\" he admitted. \"There's nothing much between the teams, so we could win the next three games or lose them. \"But I actually really enjoy seeing how you cope with such pressure as a coach. \"It helps the team grow and helps you grow as a coach. \"We could have won in Paris but for the last five minutes and now we have two defeats, but we were confident for those two first games and we are confident we can beat Italy too.\"\n",
            "\n"
          ],
          "name": "stdout"
        }
      ]
    },
    {
      "cell_type": "code",
      "metadata": {
        "colab": {
          "base_uri": "https://localhost:8080/"
        },
        "id": "fHHbr_JwSZnX",
        "outputId": "61040349-b22d-4998-f4ca-3b869409f59c"
      },
      "source": [
        "# read file \n",
        "batch_size = 32\n",
        "seed = 15\n",
        "\n",
        "raw_train_ds = preprocessing.text_dataset_from_directory(\n",
        "    sport_dir,\n",
        "    batch_size=batch_size,\n",
        "    validation_split=0.2,\n",
        "    subset='training',\n",
        "    seed=seed)\n",
        "\n",
        "raw_test_ds = preprocessing.text_dataset_from_directory(\n",
        "    sport_dir,\n",
        "    batch_size=batch_size,\n",
        "    validation_split=0.2,\n",
        "    subset='validation',\n",
        "    seed=seed)"
      ],
      "execution_count": 8,
      "outputs": [
        {
          "output_type": "stream",
          "text": [
            "Found 737 files belonging to 5 classes.\n",
            "Using 590 files for training.\n",
            "Found 737 files belonging to 5 classes.\n",
            "Using 147 files for validation.\n"
          ],
          "name": "stdout"
        }
      ]
    },
    {
      "cell_type": "code",
      "metadata": {
        "colab": {
          "base_uri": "https://localhost:8080/"
        },
        "id": "K0_79LOWXZWK",
        "outputId": "cce88b68-4900-4b5a-8fcc-7f4c9c83f77b"
      },
      "source": [
        "# get class name and map it to a dictionary\n",
        "raw_train_ds.class_names\n",
        "# make a label dictionary\n",
        "label_dict = dict(zip(range(len(raw_train_ds.class_names)), raw_train_ds.class_names))\n",
        "for i, label in enumerate(raw_train_ds.class_names):\n",
        "  print(\"Label\", i, \"corresponds to\", label)"
      ],
      "execution_count": 9,
      "outputs": [
        {
          "output_type": "stream",
          "text": [
            "Label 0 corresponds to athletics\n",
            "Label 1 corresponds to cricket\n",
            "Label 2 corresponds to football\n",
            "Label 3 corresponds to rugby\n",
            "Label 4 corresponds to tennis\n"
          ],
          "name": "stdout"
        }
      ]
    },
    {
      "cell_type": "code",
      "metadata": {
        "colab": {
          "base_uri": "https://localhost:8080/"
        },
        "id": "dxyjrv7hYFdR",
        "outputId": "56269640-a5c5-4ec3-d879-0a711fc64f33"
      },
      "source": [
        "label_dict"
      ],
      "execution_count": 10,
      "outputs": [
        {
          "output_type": "execute_result",
          "data": {
            "text/plain": [
              "{0: 'athletics', 1: 'cricket', 2: 'football', 3: 'rugby', 4: 'tennis'}"
            ]
          },
          "metadata": {
            "tags": []
          },
          "execution_count": 10
        }
      ]
    },
    {
      "cell_type": "code",
      "metadata": {
        "colab": {
          "base_uri": "https://localhost:8080/"
        },
        "id": "Dqc25s0sZyr-",
        "outputId": "9195301e-ba98-4193-8b98-0659ac271603"
      },
      "source": [
        "# take a sample and to see what's inside\n",
        "for text_batch, label_batch in raw_train_ds.take(1):\n",
        "  for i in range(10):\n",
        "    print(\"Question: \", text_batch.numpy()[i])\n",
        "    print(\"Label:\", label_batch.numpy()[i])"
      ],
      "execution_count": 11,
      "outputs": [
        {
          "output_type": "stream",
          "text": [
            "Question:  b'Mourinho to escape FA charge\\n\\nChelsea boss Jose Mourinho will not face any Football Association action over the comments he made after their Carling Cup tie with Manchester United.\\n\\nMourinho intimated that United boss Sir Alex Ferguson influenced referee Neale Barry after the duo walked down the tunnel together at half-time. But an FA spokesman told BBC Sport: \"We are not taking action over Mourinho. \"We have looked at the comments and we have decided that no further action is required. That is the end of it.\" Mourinho was concerned that Ferguson\\'s conversation with Barry was followed by an inconsistent display by the official. \"I see one referee in the first half and another in the second,\" said Mourinho. \"If the FA ask me what happened, I will tell them. What I saw and felt made it easier to understand a few things.\\n\\n\"Maybe when I turn 60 and have been managing in the same league for 20 years and have the respect of everybody I will have the power to speak to people and make them tremble a little bit. \"The referee controlled the game in one way during the first half but in the second they had dozens of free-kicks. It was fault after fault, dive after dive. \"But I know the referee did not walk to the dressing rooms alone at half-time. He should only have had his two assistants and the fourth official with him, but there was also someone else.\" Referees chief Keith Hackett believes Mourinho should retract his comments about Ferguson and Barry as he believes the Blues boss has questioned their integrity. \"I\\'m hoping he might reconsider his comments, unfortunately this is the nature of the game,\" said Hackett. \"I don\\'t want referees or myself getting in the psychological warfare between two managers. For the second leg we have an experienced referee, and we should be talking about the quality of that game rather than the refereeing. \"Sometimes managers have grounds for comments, and I note that, but a referees integrity has been questioned, that is offensive and should be avoided. Mr Mourinho should look at the facts.\" Mourinho added that the match was entertaining for a goalless draw and insisted his team could still reach the final. \"It\\'s 0-0, so if we win we go through and if we get a draw we go to extra time,\" he said. \"We have exactly the same chance we had before this game. \"We are confident of getting a result but we know what Manchester United is, a footballing power. It\\'ll be difficult for us, but also for them.\"\\n'\n",
            "Label: 2\n",
            "Question:  b'France v Wales (Sat)\\n\\nStade de France, Paris\\n\\nSaturday, 26 February\\n\\n1600 GMT\\n\\nBBC1, Radio 4 LW and this website\\n\\nFrance may have beaten Scotland and England but they were tedious and uninspired throughout both matches. Wales, on the other hand, have played some fine rugby and have made their best start since they last won the title in 1994. They also have a good record at the Stade de France, having won their first two games there, in 1999 and 2001. Wales have made two changes from the team that thrashed Italy 38-8 in Rome.\\n\\nKevin Morgan takes over from his injured Newport-Gwent Dragons colleague Hal Luscombe on the right wing. In the pack Neath-Swansea Ospreys forward Ryan Jones bas been brought on the blind-side flank to beef up the Wales back row in place of Jonathan Thomas. Wales coach Mike Ruddock is determined that his team will not go into their shells after their promising start to the championship. \"Graham Henry (former Wales coach) said a couple of years ago that we should \\'be bold\\' when going to France, and he was proved right,\" said Ruddock. \"That is a great way to approach the game, and something we will further endorse with the players this week.\"\\n\\nDespite their stuttering displays in their first two games defending champions France are also unbeaten. Under-pressure coach Bernard Laporte has made four changes, with Yannick Nyanga, the debutant Julien Laharrague, Aurelien Rougerie and Yannick Jauzion coming into the side. France have been criticised for the absence of traditional \"French flair\" as they have ground their way to victory so far this year but captain Fabien Pelous sees hope on the horizon. \"I get the impression we are getting better,\" he said. \"Against Wales, which is different from the teams we have beaten, I hope we can show our proper game.\"\\n\\nJ Laharrague; A Rougerie, Y Jauzion, D Traille, C Dominici; Y Delaigue, D Yachvili; S Marconnet, S Bruno, N Mas; F Pelous (capt), J Thion; S Betsen, Y Nyanga, J Bonnaire (Bourgoin).\\n\\nW Servat, O Milloud, G Lamboley, I Harinordoquy, P Mignoni, F Michalak, J-P Grandclaude.\\n\\nG Thomas (capt); K Morgan, T Shanklin, G Henson, S Williams; S Jones, D Peel; G Jenkins, M Davies, A Jones; B Cockbain, R Sidoli; R Jones, M Williams, M Owen.\\n\\nR McBryde, J Yapp, J Thomas, R Sowden-Taylor, G Cooper, C Sweeney, R Williams.\\n'\n",
            "Label: 3\n",
            "Question:  b\"Cup holders Man Utd visit Everton\\n\\nHolders Manchester United and Premiership leaders Chelsea both face difficult away ties against Premiership opposition in the FA Cup fifth round.\\n\\nUnited were drawn against Everton, while Chelsea face a trip to Newcastle. Brentford and Hartlepool - the only sides left from outside the top two divisions - will replay for the right to travel to Southampton. Burnley's reward for a place in the last 16 was a home tie against Lancashire rivals Blackburn. The tie between Manchester United and Everton could see the return of teenage striker Wayne Rooney to his former club for the first time since his acrimonious \\xc2\\xa327m move.\\n\\nNottingham Forest boss Gary Megson could face a trip back to old club West Brom if they come through their fourth-round replay against Tottenham. Arsenal were handed a potential home tie against fellow Londoners West Ham, providing the Hammers come through their replay against Sheffield United. Charlton will play Leicester and Bolton await the winners of the Derby-Fulham replay.\\n\\n: Bolton v Derby or Fulham\\n\\nWest Bromwich Albion or Tottenham v Nottingham Forest\\n\\nEverton v Manchester United\\n\\nCharlton Athletic v Leicester City\\n\\nBurnley v Blackburn\\n\\nSouthampton v Brentford or Hartlepool\\n\\nNewcastle v Chelsea\\n\\nArsenal v West Ham or Sheffield United\\n\\nTies to be played on 19/20 February.\\n\"\n",
            "Label: 2\n",
            "Question:  b'Pearce keen on succeeding Keegan\\n\\nJoint assistant boss Stuart Pearce has admitted he would like to succeed Kevin Keegan as manager at Manchester City.\\n\\nKeegan has decided to step down as City manager when his contract comes to an end in 18 months. \"You don\\'t have to be Einstein to realise there will be a manager\\'s job available at a really good club,\" Pearce told BBC GMR. \"I will certainly be applying for it, although whether the board deem me good enough to take it, I do not know.\" Pearce initially joined City as a player under Keegan in 2001 before becoming part of the coaching staff. He was promoted to joint assistant-manager following the departure of Arthur Cox last summer.\\n\\nThe former England defender had a year as player-boss with Nottingham Forest eight seasons ago but has made no secret of his desire to have another crack at the job. He was linked with the manager\\'s job at Oldham and Keegan has stated he would not get in the way if Pearce wanted to leave. But it now appears Pearce is keen to wait for his chance at City. He added: \"By that time, I will have been here for five years so at least they will have had a good look at me and they are aware of my feelings with regard to being Kevin\\'s successor. \"Obviously, the issue is out of my hands but it is a fantastic job for anybody - I just hope it will be me.\"\\n'\n",
            "Label: 2\n",
            "Question:  b\"Martinez sees off Vinci challenge\\n\\nVeteran Spaniard Conchita Martinez came from a set down to beat Italian Roberta Vinci at the Qatar Open in Doha.\\n\\nThe 1994 Wimbledon champion won 5-7 6-0 6-2 to earn a second round meeting with French Open champion Anastasia Myskina. Fifth seed Patty Schnyder also had a battle as she needed three sets to beat China's Na Li 7-5 3-6 7-5. Slovakian Daniela Hantuchova beat Bulgarian Magdaleena Maleeva 4-6 6-4 6-3 to set up a second round clash with Russian Elena Bovina. The veteran Martinez found herself in trouble early on against Vinci with the Italian clinching the set thanks to breaks in the third and 11th games. But Vinci's game fell to pieces after that and Martinez swept her aside with some crisp cross-court returns and deft volleys. In the day's other matches, Japan's Ai Sugiyama defeated Australian Samantha Stosur 6-2 6-3 while Australian Nicole Pratt beat Tunisian Selima Sfar 7-5 6-2 and will next face compatriot Alicia Molik.\\n\"\n",
            "Label: 4\n",
            "Question:  b\"Sociedad set to rescue Mladenovic\\n\\nRangers are set to loan out-of-favour midfielder Dragan Mladenovic to Real Sociedad, despite the closure of the January transfer window.\\n\\nSociedad have been given special permission by the Spanish FA to sign a player due to an injury crisis. Mladenovic will effectively replace former Rangers midfielder Mikel Arteta, who has been loaned to Everton. Sociedad say they will pay Rangers \\xc2\\xa3150,000, with an option to buy the Serbia & Montenegro international. Mladenovic's loan move is subject to him passing a medical. The 28-year-old, who joined Rangers from Red Star Belgrade for \\xc2\\xa31.2m in the close season, is expected in San Sebastian later this week following his national side's game against Bulgaria. Sociedad are in 15th place in the 20-strong Primera Liga, just two points above the relegation zone. Special permission from the Spanish FA came after an injury to central defender Igor Jauregi. The versatile Mladenovic can also play in the back four. His agent said last month that Rangers had told him to find the player a new club. Mladenovic's time at Ibrox has been plagued with injury and he has made just six starts in six months with the Glasgow club.\\n\"\n",
            "Label: 2\n",
            "Question:  b'Call for Kenteris to be cleared\\n\\nKostas Kenteris\\' lawyer has called for the doping charges against the Greek sprinter to be dropped.\\n\\nGregory Ioannidis has submitted new evidence to a Greek athletics tribunal which he claims proves the former Olympic champion has no case to answer. Kenteris and compatriot Katerina Thanou were given provisional suspensions in December for failing to take drugs tests before the Athens Olympics. The Greek tribunal is expected to give its verdict early next week. Kenteris and Thanou withdrew from the Athens Olympics last August after missing drugs tests on the eve of the opening ceremony. They were also alleged to have avoided tests in Tel Aviv and Chicago before the Games.\\n\\nBut Ioannidis said: \"Everything overwhelmingly shows that the charges should be dropped.\" Ioannidis also said he has presented evidence that will throw a different light on the events leading up to the pair\\'s sensational withdrawal from the Athens Games. The lawyer added that he has proof the authorities \"knew\" Kenteris was in Germany at the time he was alleged to have missed a test in Chicago. Nick Davies, spokesman for athletics\\' ruling body the IAAF, which handed out the provisional bans, said: \"We can\\'t comment because we were not present at the hearing and don\\'t know what was said behind closed doors. \"We expect a verdict from the Greek Athletics Federation before the end of February and will obviously be making a statement then.\" Kenteris won 200m gold at the 2000 Sydney Olympics, while Thanou won silver in the 100m.\\n'\n",
            "Label: 0\n",
            "Question:  b'Woodward eyes Brennan for Lions\\n\\nToulouse\\'s former Irish international Trevor Brennan could be one of Clive Woodward\\'s many surprises when the 44-man Lions tour squad is announced.\\n\\nBrennan, who last played for Ireland against Samoa in 2001, is held in high esteem by the former England coach. \"If you speak to the players there\\'s a huge amount of respect for the guy,\" Woodward told the Sunday Independent. \"Players tend to know better than most coaches. It\\'s not just the Irish, but Welsh and English players as well.\" The 31-year-old former Dublin milkman moved from Leinster to Toulouse in 2003 and immediately picked up a Heineken Cup winner\\'s medal in an all-French final against Perpignan at Lansdowne Road.\\n\\nBrennan is highly-rated at Stade Toulousain, where he is used anywhere in the back five. Woodward is ensuring his preparations for the trip to New Zealand in June are as thorough as possible. \"I\\'ve spoken to quite a few players, and they probably don\\'t know what they\\'re actually saying when we\\'re having these conversations,\" he told the newspaper. \"But you talk about certain players and they\\'ll say if they think they\\'re up to scratch or that they don\\'t want them in their team. \"I haven\\'t heard a bad word said against Trevor, which, considering he has a pretty tough guy reputation, is, to me, impressive.\"\\n'\n",
            "Label: 3\n",
            "Question:  b'India clear for Chittagong games\\n\\nIndian cricket officials have given clearance for the national team to play in Chittagong during their tour to Bangladesh, which began on Wednesday.\\n\\nThe team received alleged death threats from a radical Muslim group. But the foreign ministry were satisfied with security arrangements in Dhaka, where the first Test begins on Friday. And the team have now given the green light for the games scheduled for Chittagong, which will stage the second Test and first one-day international. \"We have now received assessment of the Indian security team that went to Chittagong. \"They made a full assessment of the security arrangements, in consultation with the Bangladesh authorities. \"On the basis of security team\\'s report, the government is advising BCCI to go ahead with the matches in Chittagong,\" said foreign ministry spokesman Navtej Sarna.\\n\\nThe inspection covered the venue, hotel and other areas where the Indian cricket team will be present. Specific recommendations for tightening security arrangements and these have been accepted by the Bangladesh authorities. A letter, apparently from a previously unknown Islamic group Harkat-ul-Jihad, arrived at the Indian embassy last Thursday. It threatened to kill the players in revenge for the riots in Gujarat in India three years ago which left many Muslims dead. However, the Bangladesh high commission said the threats were a hoax. Explosions and other attacks are not uncommon in Bangladesh - more than 20 people were killed when grenades were thrown at an opposition rally in August. There have also been blasts at cinemas. Few arrests have been made, but Islamic extremists are widely blamed. Indian cricketers have visited Bangladesh several times, most recently in 2003 for a triangular tournament that also involved South Africa.\\n'\n",
            "Label: 1\n",
            "Question:  b'Llewellyn plans Wales retirement\\n\\nWales record cap holder Gareth Llewellyn will retire from Test rugby at the end of the Six Nations.\\n\\nThe veteran lock, who is 36 at the end of February, told BBC Wales Scrum V that it is time for him to bring down the curtain on his 92-cap Wales career. Llewellyn is on a one-season deal with French club side Narbonne, but said he may consider retiring from all rugby. \"I don\\'t know what I\\'ll do next year, whether to carry on playing or make a change in my career,\" Llewellyn said. \"Narbonne are really keen for me to stay on for next year, so I\\'ve got to decide whether to stay on there or maybe go somewhere else, but ultimitely coaching is where I\\'d like to end up. \"I\\'ve done all the coaching awards and everything you can do in that respect, so it\\'s just hopefully getting a chance somewhere.\" Fellow locks Robert Sidoli and Brent Cockbain, who both scored tries in Saturday\\'s Six Nations win in Italy, are Wales coach Mike Ruddock\\'s preferred starters in the second row.\\n\\nWith the resurgence of the Dragons\\' Ian Gough and the adaptibility of lock-cum-flanker Jon Thomas on the bench, Llewellyn has not yet made a match-day squad this Six Nations campaign. But the former Neath and Ospreys player is still targetting one last outing in the red shirt. \"If I do get on the field then brilliant, although the boys are doing really well and I\\'m very pleased for them,\" Llewellyn added. \"We\\'ve had some really tough years in Wales and the players have been through a hell of a lot. \"Sometimes the easiest thing would have been to throw the towel in and walk away, but a few of us dug in there and it\\'s really nice to see some of the boys getting the rewards now. \"I was going to retire at the end of the last Six Nations, I\\'d even told some of the boys in the squad about it. \"But Mike (Ruddock) asked me to carry on for another season, which I\\'ve done, still part of the squad, still trying to help them out as much as I can.\" Llewellyn made his Wales debut in 1989 against New Zealand as a 20-year-old, having caught the selectors\\' eyes in the All Blacks\\' tour match against Neath. The 6ft 6in player has not looked back since, going on to break Neil Jenkins\\' Wales cap record on 12 June 2004 in the 50-44 loss in Argentina.\\n\\n\"There\\'s been lots of highs - winning the Six Nations in \\'94, beating England in \\'93, I\\'ve been on some great tours and seen some fantastic countries,\" Llewellyn said. \"But I think the best thing of all for me was the time I spent with the players, I\\'ve met some great guys in rugby and made some great friends. \"It\\'ll be a bit strange on international days having to find somewhere to watch Wales play, but at least I might have time to get my golf handicap down!\" Llewellyn captained Neath for seven seasons, while being an integral part of the Neath-Swansea Ospreys regional side\\'s first season. But with the Ospreys building for the future, Llewellyn was eventually forced to look to France for employment - digging in his heels during contract negotiations to insist he must be allowed to play for Wales.\\n'\n",
            "Label: 3\n"
          ],
          "name": "stdout"
        }
      ]
    },
    {
      "cell_type": "code",
      "metadata": {
        "id": "r7fdmvnfh7n6"
      },
      "source": [
        "AUTOTUNE = tf.data.AUTOTUNE\n",
        "\n",
        "def configure_dataset(dataset):\n",
        "  \"\"\"Function to cache and prefetch data for better performance\"\"\"\n",
        "  return dataset.cache().prefetch(buffer_size=AUTOTUNE)\n",
        "\n",
        "int_train_ds = configure_dataset(raw_train_ds)\n",
        "int_val_ds = configure_dataset(raw_train_ds.shuffle(590).take(59// batch_size))\n",
        "int_test_ds = configure_dataset(raw_test_ds)"
      ],
      "execution_count": 14,
      "outputs": []
    },
    {
      "cell_type": "markdown",
      "metadata": {
        "id": "oukjI_3M4Vqb"
      },
      "source": [
        "## Prepare the embedding layer"
      ]
    },
    {
      "cell_type": "code",
      "metadata": {
        "id": "5tySiNMzYSVe"
      },
      "source": [
        "# Pick the most frequency 10000 words to make the vocabulary\n",
        "VOCAB_SIZE = 10000\n",
        "\n",
        "def customized(input_data):\n",
        "  \"\"\"remove all special characters, not just default punctuations\"\"\"\n",
        "  lowercase = tf.strings.lower(input_data)\n",
        "  stripped = tf.strings.regex_replace(lowercase, r'[^a-z]', ' ')\n",
        "  return stripped\n",
        "\n",
        "#\n",
        "encoder_layer = TextVectorization(\n",
        "    standardize = customized,\n",
        "    max_tokens=VOCAB_SIZE,\n",
        "    output_mode='int', output_sequence_length=VOCAB_SIZE)\n",
        "\n",
        "encoder_layer.adapt(int_train_ds.map(lambda text, labels: text))"
      ],
      "execution_count": 15,
      "outputs": []
    },
    {
      "cell_type": "code",
      "metadata": {
        "colab": {
          "base_uri": "https://localhost:8080/"
        },
        "id": "WTbhw3-qey6c",
        "outputId": "75a7d885-b7dc-4fc4-aba4-b626d6708b9b"
      },
      "source": [
        "# check the first 20 words\n",
        "len(encoder_layer.get_vocabulary())\n",
        "encoder_layer.get_vocabulary()[:20]"
      ],
      "execution_count": 17,
      "outputs": [
        {
          "output_type": "execute_result",
          "data": {
            "text/plain": [
              "['',\n",
              " '[UNK]',\n",
              " 'the',\n",
              " 'to',\n",
              " 'a',\n",
              " 'and',\n",
              " 'in',\n",
              " 'of',\n",
              " 's',\n",
              " 'i',\n",
              " 'for',\n",
              " 'he',\n",
              " 'on',\n",
              " 'is',\n",
              " 'was',\n",
              " 'it',\n",
              " 'but',\n",
              " 'with',\n",
              " 'that',\n",
              " 'have']"
            ]
          },
          "metadata": {
            "tags": []
          },
          "execution_count": 17
        }
      ]
    },
    {
      "cell_type": "code",
      "metadata": {
        "colab": {
          "base_uri": "https://localhost:8080/"
        },
        "id": "QSIw7wUWfg0p",
        "outputId": "5816d959-c2cf-42fe-da2b-8a77b4365a32"
      },
      "source": [
        "# check the text of one sample\n",
        "text_batch, label_batch = next(iter(int_train_ds))\n",
        "first_question, first_label = text_batch[0], label_batch[0]\n",
        "print(\"Question\", first_question)\n",
        "print(\"Label\", first_label)"
      ],
      "execution_count": 19,
      "outputs": [
        {
          "output_type": "stream",
          "text": [
            "Question tf.Tensor(b'Rivals back anti-racism campaign\\n\\nManchester United and Arsenal players will wear black and white wristbands when they face each other on Tuesday as part of a new anti-racism initiative.\\n\\nLaunching the \\'Stand Up, Speak Up\\' scheme with Thierry Henry, United\\'s Rio Ferdinand said football\\'s ruling bodies should do more to tackle racist abuse. \"If an offence is committed, they should make a stand against it before the players do,\" Ferdinand said. \"It should be up to the authorities to come forward.\" Ferdinand added: \"It is a massive issue that needs to be jumped on and addressed. \"It is a bit sad that it has taken the initiative of a player to push this issue forward.\" Henry became involved with the campaign following comments directed at him last year by Luis Aragones.\\n\\nFerdinand claimed he was surprised by the lack of action taken against the Spain coach, saying: \"I think if it had been the England manager who had said something like that, he wouldn\\'t be in a job now.\"\\n', shape=(), dtype=string)\n",
            "Label tf.Tensor(2, shape=(), dtype=int32)\n"
          ],
          "name": "stdout"
        }
      ]
    },
    {
      "cell_type": "code",
      "metadata": {
        "colab": {
          "base_uri": "https://localhost:8080/"
        },
        "id": "F2CSxhqsgdS1",
        "outputId": "b00294c7-7acb-413b-f88c-6f46c664a33e"
      },
      "source": [
        "# check the encoded text sample\n",
        "first_question1 = tf.expand_dims(first_question, -1)\n",
        "print(\"'int' vectorized question:\",\n",
        "      encoder_layer(first_question1))"
      ],
      "execution_count": 21,
      "outputs": [
        {
          "output_type": "stream",
          "text": [
            "'int' vectorized question: tf.Tensor([[ 855   64 1348 ...    0    0    0]], shape=(1, 10000), dtype=int64)\n"
          ],
          "name": "stdout"
        }
      ]
    },
    {
      "cell_type": "code",
      "metadata": {
        "colab": {
          "base_uri": "https://localhost:8080/"
        },
        "id": "osAkBqpvhAbs",
        "outputId": "94791687-8d58-4971-8646-234eb8a05499"
      },
      "source": [
        "# check if they match\n",
        "print(\"855 ---> \", encoder_layer.get_vocabulary()[855])\n",
        "print(\"64 ---> \", encoder_layer.get_vocabulary()[313])\n",
        "print(\"Vocabulary size: {}\".format(len(encoder_layer.get_vocabulary())))"
      ],
      "execution_count": 24,
      "outputs": [
        {
          "output_type": "stream",
          "text": [
            "855 --->  rivals\n",
            "64 --->  look\n",
            "Vocabulary size: 10000\n"
          ],
          "name": "stdout"
        }
      ]
    },
    {
      "cell_type": "markdown",
      "metadata": {
        "id": "sgnUpzSg7V35"
      },
      "source": [
        "# Build a RNN model, using the encoder_layer to be the first layer, it converts text to encoded vectors"
      ]
    },
    {
      "cell_type": "code",
      "metadata": {
        "id": "9fMS77wqiRXx"
      },
      "source": [
        "def create_model(vocab_size, num_labels):\n",
        "  \"\"\"Make a CNN model\"\"\"\n",
        "  model = tf.keras.Sequential([\n",
        "      encoder_layer,                        \n",
        "      layers.Embedding(input_dim=vocab_size,\n",
        "        output_dim=8, mask_zero=True),\n",
        "      layers.Bidirectional(layers.LSTM(9)),\n",
        "      layers.Dense(5, activation='relu', \n",
        "      activity_regularizer=tf.keras.regularizers.L2(0.01)), \n",
        "      # extra regularation as noises to prevent overfitting\n",
        "      layers.Dense(num_labels, activation='softmax')\n",
        "  ])\n",
        "  return model\n"
      ],
      "execution_count": 25,
      "outputs": []
    },
    {
      "cell_type": "code",
      "metadata": {
        "colab": {
          "base_uri": "https://localhost:8080/"
        },
        "id": "BjvZCPiPmgb3",
        "outputId": "4f7000bd-2fce-4f39-ea02-9dc7da66a188"
      },
      "source": [
        "# vocab_size is VOCAB_SIZE + 1 since 0 is used additionally for padding.\n",
        "\n",
        "early_stopping = tf.keras.callbacks.EarlyStopping(monitor='val_loss', verbose=1, \n",
        "                                              patience=5, mode='min', \n",
        "                                              restore_best_weights=True)\n",
        " \n",
        "int_model = create_model(vocab_size=VOCAB_SIZE, num_labels=5)\n",
        "int_model.compile(\n",
        "    loss=losses.SparseCategoricalCrossentropy(from_logits=True),\n",
        "    optimizer='adam',\n",
        "    metrics=['accuracy'])\n",
        "\n",
        "\n",
        "history = int_model.fit(int_train_ds, validation_data=int_val_ds, epochs=100, \n",
        "                        callbacks=early_stopping)"
      ],
      "execution_count": 30,
      "outputs": [
        {
          "output_type": "stream",
          "text": [
            "Epoch 1/100\n",
            "19/19 [==============================] - 18s 419ms/step - loss: 1.6077 - accuracy: 0.2779 - val_loss: 1.5961 - val_accuracy: 0.3438\n",
            "Epoch 2/100\n",
            "19/19 [==============================] - 5s 280ms/step - loss: 1.5908 - accuracy: 0.3291 - val_loss: 1.5711 - val_accuracy: 0.3438\n",
            "Epoch 3/100\n",
            "19/19 [==============================] - 5s 277ms/step - loss: 1.5601 - accuracy: 0.3291 - val_loss: 1.5079 - val_accuracy: 0.3438\n",
            "Epoch 4/100\n",
            "19/19 [==============================] - 5s 277ms/step - loss: 1.4674 - accuracy: 0.3296 - val_loss: 1.2599 - val_accuracy: 0.3438\n",
            "Epoch 5/100\n",
            "19/19 [==============================] - 5s 278ms/step - loss: 1.2662 - accuracy: 0.4221 - val_loss: 1.0440 - val_accuracy: 0.5000\n",
            "Epoch 6/100\n",
            "19/19 [==============================] - 5s 278ms/step - loss: 1.0508 - accuracy: 0.6056 - val_loss: 0.9608 - val_accuracy: 0.7188\n",
            "Epoch 7/100\n",
            "19/19 [==============================] - 5s 277ms/step - loss: 0.9533 - accuracy: 0.6936 - val_loss: 0.9437 - val_accuracy: 0.7500\n",
            "Epoch 8/100\n",
            "19/19 [==============================] - 5s 277ms/step - loss: 0.9647 - accuracy: 0.6735 - val_loss: 1.1958 - val_accuracy: 0.6562\n",
            "Epoch 9/100\n",
            "19/19 [==============================] - 5s 276ms/step - loss: 0.9217 - accuracy: 0.7454 - val_loss: 0.7542 - val_accuracy: 0.7812\n",
            "Epoch 10/100\n",
            "19/19 [==============================] - 5s 278ms/step - loss: 0.7823 - accuracy: 0.7714 - val_loss: 0.7439 - val_accuracy: 0.7500\n",
            "Epoch 11/100\n",
            "19/19 [==============================] - 5s 278ms/step - loss: 0.7215 - accuracy: 0.7448 - val_loss: 0.7110 - val_accuracy: 0.7500\n",
            "Epoch 12/100\n",
            "19/19 [==============================] - 5s 278ms/step - loss: 0.7171 - accuracy: 0.7705 - val_loss: 0.6823 - val_accuracy: 0.7500\n",
            "Epoch 13/100\n",
            "19/19 [==============================] - 5s 277ms/step - loss: 0.6948 - accuracy: 0.7858 - val_loss: 0.9547 - val_accuracy: 0.7188\n",
            "Epoch 14/100\n",
            "19/19 [==============================] - 5s 276ms/step - loss: 0.8764 - accuracy: 0.6885 - val_loss: 0.6782 - val_accuracy: 0.8125\n",
            "Epoch 15/100\n",
            "19/19 [==============================] - 5s 277ms/step - loss: 0.6445 - accuracy: 0.8140 - val_loss: 0.6404 - val_accuracy: 0.8750\n",
            "Epoch 16/100\n",
            "19/19 [==============================] - 5s 278ms/step - loss: 0.6123 - accuracy: 0.8479 - val_loss: 0.6194 - val_accuracy: 0.8438\n",
            "Epoch 17/100\n",
            "19/19 [==============================] - 5s 278ms/step - loss: 0.5988 - accuracy: 0.8704 - val_loss: 0.5479 - val_accuracy: 0.8750\n",
            "Epoch 18/100\n",
            "19/19 [==============================] - 5s 278ms/step - loss: 0.5905 - accuracy: 0.8784 - val_loss: 0.5900 - val_accuracy: 0.9375\n",
            "Epoch 19/100\n",
            "19/19 [==============================] - 5s 275ms/step - loss: 0.5746 - accuracy: 0.9508 - val_loss: 0.5546 - val_accuracy: 0.9688\n",
            "Epoch 20/100\n",
            "19/19 [==============================] - 5s 276ms/step - loss: 0.5421 - accuracy: 0.9468 - val_loss: 0.6492 - val_accuracy: 0.9062\n",
            "Epoch 21/100\n",
            "19/19 [==============================] - 5s 276ms/step - loss: 0.6297 - accuracy: 0.8722 - val_loss: 0.6959 - val_accuracy: 0.7500\n",
            "Epoch 22/100\n",
            "19/19 [==============================] - 5s 277ms/step - loss: 0.7109 - accuracy: 0.7819 - val_loss: 0.5412 - val_accuracy: 0.9375\n",
            "Epoch 23/100\n",
            "19/19 [==============================] - 5s 275ms/step - loss: 0.5651 - accuracy: 0.9163 - val_loss: 0.5068 - val_accuracy: 0.9375\n",
            "Epoch 24/100\n",
            "19/19 [==============================] - 5s 277ms/step - loss: 0.5241 - accuracy: 0.9360 - val_loss: 0.5238 - val_accuracy: 0.9062\n",
            "Epoch 25/100\n",
            "19/19 [==============================] - 5s 273ms/step - loss: 0.5171 - accuracy: 0.9444 - val_loss: 0.4806 - val_accuracy: 0.9688\n",
            "Epoch 26/100\n",
            "19/19 [==============================] - 5s 274ms/step - loss: 0.4592 - accuracy: 0.9695 - val_loss: 0.4749 - val_accuracy: 0.9375\n",
            "Epoch 27/100\n",
            "19/19 [==============================] - 5s 274ms/step - loss: 0.4655 - accuracy: 0.9731 - val_loss: 0.4008 - val_accuracy: 0.9688\n",
            "Epoch 28/100\n",
            "19/19 [==============================] - 5s 275ms/step - loss: 0.4029 - accuracy: 0.9903 - val_loss: 0.3728 - val_accuracy: 1.0000\n",
            "Epoch 29/100\n",
            "19/19 [==============================] - 5s 274ms/step - loss: 0.3789 - accuracy: 0.9939 - val_loss: 0.3541 - val_accuracy: 1.0000\n",
            "Epoch 30/100\n",
            "19/19 [==============================] - 5s 277ms/step - loss: 0.3670 - accuracy: 0.9921 - val_loss: 0.3391 - val_accuracy: 1.0000\n",
            "Epoch 31/100\n",
            "19/19 [==============================] - 5s 277ms/step - loss: 0.3556 - accuracy: 0.9889 - val_loss: 0.3268 - val_accuracy: 1.0000\n",
            "Epoch 32/100\n",
            "19/19 [==============================] - 5s 278ms/step - loss: 0.3374 - accuracy: 0.9938 - val_loss: 0.3152 - val_accuracy: 1.0000\n",
            "Epoch 33/100\n",
            "19/19 [==============================] - 5s 278ms/step - loss: 0.3233 - accuracy: 0.9938 - val_loss: 0.3054 - val_accuracy: 1.0000\n",
            "Epoch 34/100\n",
            "19/19 [==============================] - 5s 278ms/step - loss: 0.3092 - accuracy: 0.9966 - val_loss: 0.2958 - val_accuracy: 1.0000\n",
            "Epoch 35/100\n",
            "19/19 [==============================] - 5s 279ms/step - loss: 0.2994 - accuracy: 0.9960 - val_loss: 0.2870 - val_accuracy: 1.0000\n",
            "Epoch 36/100\n",
            "19/19 [==============================] - 5s 279ms/step - loss: 0.2895 - accuracy: 0.9976 - val_loss: 0.2785 - val_accuracy: 1.0000\n",
            "Epoch 37/100\n",
            "19/19 [==============================] - 5s 278ms/step - loss: 0.2805 - accuracy: 0.9976 - val_loss: 0.2706 - val_accuracy: 1.0000\n",
            "Epoch 38/100\n",
            "19/19 [==============================] - 5s 278ms/step - loss: 0.2727 - accuracy: 0.9976 - val_loss: 0.2636 - val_accuracy: 1.0000\n",
            "Epoch 39/100\n",
            "19/19 [==============================] - 5s 277ms/step - loss: 0.2656 - accuracy: 1.0000 - val_loss: 0.2570 - val_accuracy: 1.0000\n",
            "Epoch 40/100\n",
            "19/19 [==============================] - 5s 276ms/step - loss: 0.2592 - accuracy: 1.0000 - val_loss: 0.2508 - val_accuracy: 1.0000\n",
            "Epoch 41/100\n",
            "19/19 [==============================] - 5s 277ms/step - loss: 0.2531 - accuracy: 1.0000 - val_loss: 0.2450 - val_accuracy: 1.0000\n",
            "Epoch 42/100\n",
            "19/19 [==============================] - 5s 277ms/step - loss: 0.2475 - accuracy: 1.0000 - val_loss: 0.2396 - val_accuracy: 1.0000\n",
            "Epoch 43/100\n",
            "19/19 [==============================] - 5s 278ms/step - loss: 0.2421 - accuracy: 1.0000 - val_loss: 0.2346 - val_accuracy: 1.0000\n",
            "Epoch 44/100\n",
            "19/19 [==============================] - 5s 278ms/step - loss: 0.2370 - accuracy: 1.0000 - val_loss: 0.2298 - val_accuracy: 1.0000\n",
            "Epoch 45/100\n",
            "19/19 [==============================] - 5s 278ms/step - loss: 0.2321 - accuracy: 1.0000 - val_loss: 0.2253 - val_accuracy: 1.0000\n",
            "Epoch 46/100\n",
            "19/19 [==============================] - 5s 278ms/step - loss: 0.2275 - accuracy: 1.0000 - val_loss: 0.2211 - val_accuracy: 1.0000\n",
            "Epoch 47/100\n",
            "19/19 [==============================] - 5s 278ms/step - loss: 0.2231 - accuracy: 1.0000 - val_loss: 0.2169 - val_accuracy: 1.0000\n",
            "Epoch 48/100\n",
            "19/19 [==============================] - 5s 279ms/step - loss: 0.2670 - accuracy: 0.9867 - val_loss: 1.0564 - val_accuracy: 0.7812\n",
            "Epoch 49/100\n",
            "19/19 [==============================] - 5s 278ms/step - loss: 0.8518 - accuracy: 0.7998 - val_loss: 0.5599 - val_accuracy: 0.8125\n",
            "Epoch 50/100\n",
            "19/19 [==============================] - 5s 279ms/step - loss: 0.4933 - accuracy: 0.8686 - val_loss: 0.2977 - val_accuracy: 1.0000\n",
            "Epoch 51/100\n",
            "19/19 [==============================] - 5s 279ms/step - loss: 0.3326 - accuracy: 0.9781 - val_loss: 0.3331 - val_accuracy: 0.9688\n",
            "Epoch 52/100\n",
            "19/19 [==============================] - 5s 277ms/step - loss: 0.3125 - accuracy: 0.9733 - val_loss: 0.2571 - val_accuracy: 1.0000\n",
            "Epoch 00052: early stopping\n"
          ],
          "name": "stdout"
        }
      ]
    },
    {
      "cell_type": "code",
      "metadata": {
        "colab": {
          "base_uri": "https://localhost:8080/"
        },
        "id": "d6_jsnEqmuoA",
        "outputId": "149a4b1e-7a68-4eaa-97ea-1e5afce02ad4"
      },
      "source": [
        "# check if all layers support masking\n",
        "print([layer.supports_masking for layer in int_model.layers])"
      ],
      "execution_count": 31,
      "outputs": [
        {
          "output_type": "stream",
          "text": [
            "[False, True, True, True, True]\n"
          ],
          "name": "stdout"
        }
      ]
    },
    {
      "cell_type": "code",
      "metadata": {
        "colab": {
          "base_uri": "https://localhost:8080/"
        },
        "id": "5k3g2qqbm5WS",
        "outputId": "85baf8ea-52ed-4230-dedc-53659151b675"
      },
      "source": [
        "print(\"model on int vectorized data:\")\n",
        "print(int_model.summary())"
      ],
      "execution_count": 32,
      "outputs": [
        {
          "output_type": "stream",
          "text": [
            "model on int vectorized data:\n",
            "Model: \"sequential_4\"\n",
            "_________________________________________________________________\n",
            "Layer (type)                 Output Shape              Param #   \n",
            "=================================================================\n",
            "text_vectorization_1 (TextVe (None, 10000)             0         \n",
            "_________________________________________________________________\n",
            "embedding_4 (Embedding)      (None, 10000, 8)          80000     \n",
            "_________________________________________________________________\n",
            "bidirectional_4 (Bidirection (None, 18)                1296      \n",
            "_________________________________________________________________\n",
            "dense_8 (Dense)              (None, 5)                 95        \n",
            "_________________________________________________________________\n",
            "dense_9 (Dense)              (None, 5)                 30        \n",
            "=================================================================\n",
            "Total params: 81,421\n",
            "Trainable params: 81,421\n",
            "Non-trainable params: 0\n",
            "_________________________________________________________________\n",
            "None\n"
          ],
          "name": "stdout"
        }
      ]
    },
    {
      "cell_type": "code",
      "metadata": {
        "colab": {
          "base_uri": "https://localhost:8080/"
        },
        "id": "7QBN6JHPn-sA",
        "outputId": "e4a77665-0171-4025-fc3d-3b30c8705f66"
      },
      "source": [
        "# test one sample\n",
        "#tf.expand_dims(first_question)\n",
        "print(\"Question\", first_question1)\n",
        "print(\"Label\", first_label)\n",
        "test = int_model.predict(first_question1)\n",
        "print('The test label is', np.argmax(test))"
      ],
      "execution_count": 36,
      "outputs": [
        {
          "output_type": "stream",
          "text": [
            "Question tf.Tensor([b'Rivals back anti-racism campaign\\n\\nManchester United and Arsenal players will wear black and white wristbands when they face each other on Tuesday as part of a new anti-racism initiative.\\n\\nLaunching the \\'Stand Up, Speak Up\\' scheme with Thierry Henry, United\\'s Rio Ferdinand said football\\'s ruling bodies should do more to tackle racist abuse. \"If an offence is committed, they should make a stand against it before the players do,\" Ferdinand said. \"It should be up to the authorities to come forward.\" Ferdinand added: \"It is a massive issue that needs to be jumped on and addressed. \"It is a bit sad that it has taken the initiative of a player to push this issue forward.\" Henry became involved with the campaign following comments directed at him last year by Luis Aragones.\\n\\nFerdinand claimed he was surprised by the lack of action taken against the Spain coach, saying: \"I think if it had been the England manager who had said something like that, he wouldn\\'t be in a job now.\"\\n'], shape=(1,), dtype=string)\n",
            "Label tf.Tensor(2, shape=(), dtype=int32)\n",
            "The test label is 2\n"
          ],
          "name": "stdout"
        }
      ]
    },
    {
      "cell_type": "markdown",
      "metadata": {
        "id": "PFFEcdlQ7t5t"
      },
      "source": [
        "# Evaluate and plot the model"
      ]
    },
    {
      "cell_type": "code",
      "metadata": {
        "colab": {
          "base_uri": "https://localhost:8080/"
        },
        "id": "lZUkNC3Vozop",
        "outputId": "8eb365e5-68a9-44ab-ef12-4deac7ff2b15"
      },
      "source": [
        "test_loss, test_acc = int_model.evaluate(int_val_ds)\n",
        "\n",
        "print('Test Loss: {}'.format(test_loss))\n",
        "print('Test Accuracy: {}'.format(test_acc))"
      ],
      "execution_count": 37,
      "outputs": [
        {
          "output_type": "stream",
          "text": [
            "1/1 [==============================] - 0s 138ms/step - loss: 0.2571 - accuracy: 1.0000\n",
            "Test Loss: 0.2570543885231018\n",
            "Test Accuracy: 1.0\n"
          ],
          "name": "stdout"
        }
      ]
    },
    {
      "cell_type": "code",
      "metadata": {
        "colab": {
          "base_uri": "https://localhost:8080/"
        },
        "id": "z356xW_gpygx",
        "outputId": "c7de7ef2-bec2-423b-cba0-81b4a1ada328"
      },
      "source": [
        "# print out labels and predicted labels to see the accuracy\n",
        "test_label = int_val_ds.map(lambda a, b: b)\n",
        "tlabels = list(test_label.as_numpy_iterator())\n",
        "print('True labels')\n",
        "print(list(tlabels))\n",
        "print()\n",
        "pre_test = int_model.predict(int_val_ds.map(lambda a, b: a))\n",
        "print('Predicted labels:')\n",
        "test_prediction = np.argmax(pre_test, axis=1)\n",
        "print(test_prediction)\n",
        "print('Sample prediction', test_prediction)\n",
        "print('Sample accuracy =', np.mean(tlabels == test_prediction))"
      ],
      "execution_count": 43,
      "outputs": [
        {
          "output_type": "stream",
          "text": [
            "True labels\n",
            "[array([1, 4, 3, 4, 2, 3, 3, 3, 2, 0, 2, 0, 1, 0, 3, 4, 3, 2, 4, 2, 2, 1,\n",
            "       2, 4, 1, 2, 2, 2, 0, 3, 1, 2], dtype=int32)]\n",
            "\n",
            "Predicted labels:\n",
            "[1 4 3 4 2 3 3 3 2 0 2 0 1 0 3 4 3 2 4 2 2 1 2 4 1 2 2 2 0 3 1 2]\n",
            "Sample prediction [1 4 3 4 2 3 3 3 2 0 2 0 1 0 3 4 3 2 4 2 2 1 2 4 1 2 2 2 0 3 1 2]\n",
            "Sample accuracy = 1.0\n"
          ],
          "name": "stdout"
        }
      ]
    },
    {
      "cell_type": "code",
      "metadata": {
        "colab": {
          "base_uri": "https://localhost:8080/",
          "height": 621
        },
        "id": "CIiXeinq57dF",
        "outputId": "4d9c67f4-2502-4c24-8e84-6022a4c4cb5d"
      },
      "source": [
        "def learning_plot(record):\n",
        "  \"\"\"Function to plot the metrics\"\"\"\n",
        "  fig, (ax1, ax2) = plt.subplots(2, 1, figsize=(10,10))\n",
        "  train_acc = record.history['accuracy']\n",
        "  val_acc = record.history['val_accuracy']\n",
        "  train_loss = record.history['loss']\n",
        "  val_loss = record.history['val_loss']\n",
        "  epoch = range(len(train_acc))\n",
        "  ax1.plot(epoch, train_acc, label='Training Accuracy')\n",
        "  ax2.plot(epoch, train_loss, label='Training Loss')\n",
        "  ax1.plot(epoch, val_acc, label='Validation Accuracy')\n",
        "  ax2.plot(epoch, val_loss, label='Validation Loss')\n",
        "  ax1.set_xlabel('Epoch')\n",
        "  ax2.set_xlabel('Epoch')\n",
        "  ax2.set_ylabel('Loss')\n",
        "  ax1.set_ylabel('Accuracy')\n",
        "  ax1.legend(loc = 'upper right')\n",
        "  ax2.legend(loc = 'upper right')\n",
        "  ax1.set_title('Learning curve of Accuracy')\n",
        "  ax2.set_title('Learning curve of Loss')\n",
        "\n",
        "  \n",
        "learning_plot(history)"
      ],
      "execution_count": 45,
      "outputs": [
        {
          "output_type": "display_data",
          "data": {
            "image/png": "[encoded data removed]",
            "text/plain": [
              "<Figure size 720x720 with 2 Axes>"
            ]
          },
          "metadata": {
            "tags": [],
            "needs_background": "light"
          }
        }
      ]
    },
    {
      "cell_type": "code",
      "metadata": {
        "id": "r82levvj6pE0"
      },
      "source": [
        ""
      ],
      "execution_count": null,
      "outputs": []
    }
  ]
}